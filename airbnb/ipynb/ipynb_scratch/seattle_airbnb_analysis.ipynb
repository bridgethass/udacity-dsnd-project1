{
 "cells": [
  {
   "cell_type": "markdown",
   "metadata": {},
   "source": [
    "## A look at the Seattle AirBnB neighborhoods\n",
    "\n",
    "This notebook explores the Seattle Airbnb Open Data https://www.kaggle.com/airbnb/seattle/data, focusing in on the `listings.csv` in an attempt to gain a better sense of the neighborhoods. Specifically I looked at whether there may be a realtionship between neighborhoods and: \n",
    "    \n",
    "    1) cleanliness rating \n",
    "    2) room type (entire house, private room, shared room) \n",
    "    \n",
    "The notebook is broken into three sections, where the first part I am just getting a sense for the data and relationships between different variables, etc. \n",
    "\n",
    "    1) Initial Data Exploration\n",
    "    2) Neighbourhood Exploration\n",
    "       2a) Cleanliness\n",
    "       2b) Communal Living (Room Type)\n",
    "\n",
    "#### Installations\n",
    "non-standard installations from conda include:\n",
    "    - `!conda install basemap`\n",
    "    - `!conda install -c conda-forge basemap-data-hires`\n",
    "\n",
    "Display the verison of Python I'm using, then import some required packages."
   ]
  },
  {
   "cell_type": "code",
   "execution_count": 1,
   "metadata": {},
   "outputs": [
    {
     "data": {
      "text/plain": [
       "'3.6.7 |Anaconda, Inc.| (default, Oct 28 2018, 19:44:12) [MSC v.1915 64 bit (AMD64)]'"
      ]
     },
     "execution_count": 1,
     "metadata": {},
     "output_type": "execute_result"
    }
   ],
   "source": [
    "import sys\n",
    "sys.version"
   ]
  },
  {
   "cell_type": "code",
   "execution_count": 2,
   "metadata": {},
   "outputs": [],
   "source": [
    "import numpy as np\n",
    "import pandas as pd\n",
    "import matplotlib.pyplot as plt\n",
    "import seaborn as sns\n",
    "from IPython import display\n",
    "from mpl_toolkits.basemap import Basemap\n",
    "\n",
    "%matplotlib inline"
   ]
  },
  {
   "cell_type": "code",
   "execution_count": 3,
   "metadata": {},
   "outputs": [],
   "source": [
    "listings_df = pd.read_csv('../data/listings.csv')"
   ]
  },
  {
   "cell_type": "code",
   "execution_count": 4,
   "metadata": {},
   "outputs": [
    {
     "data": {
      "text/plain": [
       "(3818, 92)"
      ]
     },
     "execution_count": 4,
     "metadata": {},
     "output_type": "execute_result"
    }
   ],
   "source": [
    "listings_df.shape"
   ]
  },
  {
   "cell_type": "code",
   "execution_count": 5,
   "metadata": {},
   "outputs": [
    {
     "name": "stdout",
     "output_type": "stream",
     "text": [
      "Index(['id', 'listing_url', 'scrape_id', 'last_scraped', 'name', 'summary',\n",
      "       'space', 'description', 'experiences_offered', 'neighborhood_overview',\n",
      "       'notes', 'transit', 'thumbnail_url', 'medium_url', 'picture_url',\n",
      "       'xl_picture_url', 'host_id', 'host_url', 'host_name', 'host_since',\n",
      "       'host_location', 'host_about', 'host_response_time',\n",
      "       'host_response_rate', 'host_acceptance_rate', 'host_is_superhost',\n",
      "       'host_thumbnail_url', 'host_picture_url', 'host_neighbourhood',\n",
      "       'host_listings_count', 'host_total_listings_count',\n",
      "       'host_verifications', 'host_has_profile_pic', 'host_identity_verified',\n",
      "       'street', 'neighbourhood', 'neighbourhood_cleansed',\n",
      "       'neighbourhood_group_cleansed', 'city', 'state', 'zipcode', 'market',\n",
      "       'smart_location', 'country_code', 'country', 'latitude', 'longitude',\n",
      "       'is_location_exact', 'property_type', 'room_type', 'accommodates',\n",
      "       'bathrooms', 'bedrooms', 'beds', 'bed_type', 'amenities', 'square_feet',\n",
      "       'price', 'weekly_price', 'monthly_price', 'security_deposit',\n",
      "       'cleaning_fee', 'guests_included', 'extra_people', 'minimum_nights',\n",
      "       'maximum_nights', 'calendar_updated', 'has_availability',\n",
      "       'availability_30', 'availability_60', 'availability_90',\n",
      "       'availability_365', 'calendar_last_scraped', 'number_of_reviews',\n",
      "       'first_review', 'last_review', 'review_scores_rating',\n",
      "       'review_scores_accuracy', 'review_scores_cleanliness',\n",
      "       'review_scores_checkin', 'review_scores_communication',\n",
      "       'review_scores_location', 'review_scores_value', 'requires_license',\n",
      "       'license', 'jurisdiction_names', 'instant_bookable',\n",
      "       'cancellation_policy', 'require_guest_profile_picture',\n",
      "       'require_guest_phone_verification', 'calculated_host_listings_count',\n",
      "       'reviews_per_month'],\n",
      "      dtype='object')\n"
     ]
    },
    {
     "data": {
      "text/html": [
       "<div>\n",
       "<style scoped>\n",
       "    .dataframe tbody tr th:only-of-type {\n",
       "        vertical-align: middle;\n",
       "    }\n",
       "\n",
       "    .dataframe tbody tr th {\n",
       "        vertical-align: top;\n",
       "    }\n",
       "\n",
       "    .dataframe thead th {\n",
       "        text-align: right;\n",
       "    }\n",
       "</style>\n",
       "<table border=\"1\" class=\"dataframe\">\n",
       "  <thead>\n",
       "    <tr style=\"text-align: right;\">\n",
       "      <th></th>\n",
       "      <th>id</th>\n",
       "      <th>scrape_id</th>\n",
       "      <th>host_id</th>\n",
       "      <th>host_listings_count</th>\n",
       "      <th>host_total_listings_count</th>\n",
       "      <th>latitude</th>\n",
       "      <th>longitude</th>\n",
       "      <th>accommodates</th>\n",
       "      <th>bathrooms</th>\n",
       "      <th>bedrooms</th>\n",
       "      <th>...</th>\n",
       "      <th>review_scores_rating</th>\n",
       "      <th>review_scores_accuracy</th>\n",
       "      <th>review_scores_cleanliness</th>\n",
       "      <th>review_scores_checkin</th>\n",
       "      <th>review_scores_communication</th>\n",
       "      <th>review_scores_location</th>\n",
       "      <th>review_scores_value</th>\n",
       "      <th>license</th>\n",
       "      <th>calculated_host_listings_count</th>\n",
       "      <th>reviews_per_month</th>\n",
       "    </tr>\n",
       "  </thead>\n",
       "  <tbody>\n",
       "    <tr>\n",
       "      <th>count</th>\n",
       "      <td>3.818000e+03</td>\n",
       "      <td>3.818000e+03</td>\n",
       "      <td>3.818000e+03</td>\n",
       "      <td>3816.000000</td>\n",
       "      <td>3816.000000</td>\n",
       "      <td>3818.000000</td>\n",
       "      <td>3818.000000</td>\n",
       "      <td>3818.000000</td>\n",
       "      <td>3802.000000</td>\n",
       "      <td>3812.000000</td>\n",
       "      <td>...</td>\n",
       "      <td>3171.000000</td>\n",
       "      <td>3160.000000</td>\n",
       "      <td>3165.000000</td>\n",
       "      <td>3160.000000</td>\n",
       "      <td>3167.000000</td>\n",
       "      <td>3163.000000</td>\n",
       "      <td>3162.000000</td>\n",
       "      <td>0.0</td>\n",
       "      <td>3818.000000</td>\n",
       "      <td>3191.000000</td>\n",
       "    </tr>\n",
       "    <tr>\n",
       "      <th>mean</th>\n",
       "      <td>5.550111e+06</td>\n",
       "      <td>2.016010e+13</td>\n",
       "      <td>1.578556e+07</td>\n",
       "      <td>7.157757</td>\n",
       "      <td>7.157757</td>\n",
       "      <td>47.628961</td>\n",
       "      <td>-122.333103</td>\n",
       "      <td>3.349398</td>\n",
       "      <td>1.259469</td>\n",
       "      <td>1.307712</td>\n",
       "      <td>...</td>\n",
       "      <td>94.539262</td>\n",
       "      <td>9.636392</td>\n",
       "      <td>9.556398</td>\n",
       "      <td>9.786709</td>\n",
       "      <td>9.809599</td>\n",
       "      <td>9.608916</td>\n",
       "      <td>9.452245</td>\n",
       "      <td>NaN</td>\n",
       "      <td>2.946307</td>\n",
       "      <td>2.078919</td>\n",
       "    </tr>\n",
       "    <tr>\n",
       "      <th>std</th>\n",
       "      <td>2.962660e+06</td>\n",
       "      <td>0.000000e+00</td>\n",
       "      <td>1.458382e+07</td>\n",
       "      <td>28.628149</td>\n",
       "      <td>28.628149</td>\n",
       "      <td>0.043052</td>\n",
       "      <td>0.031745</td>\n",
       "      <td>1.977599</td>\n",
       "      <td>0.590369</td>\n",
       "      <td>0.883395</td>\n",
       "      <td>...</td>\n",
       "      <td>6.606083</td>\n",
       "      <td>0.698031</td>\n",
       "      <td>0.797274</td>\n",
       "      <td>0.595499</td>\n",
       "      <td>0.568211</td>\n",
       "      <td>0.629053</td>\n",
       "      <td>0.750259</td>\n",
       "      <td>NaN</td>\n",
       "      <td>5.893029</td>\n",
       "      <td>1.822348</td>\n",
       "    </tr>\n",
       "    <tr>\n",
       "      <th>min</th>\n",
       "      <td>3.335000e+03</td>\n",
       "      <td>2.016010e+13</td>\n",
       "      <td>4.193000e+03</td>\n",
       "      <td>1.000000</td>\n",
       "      <td>1.000000</td>\n",
       "      <td>47.505088</td>\n",
       "      <td>-122.417219</td>\n",
       "      <td>1.000000</td>\n",
       "      <td>0.000000</td>\n",
       "      <td>0.000000</td>\n",
       "      <td>...</td>\n",
       "      <td>20.000000</td>\n",
       "      <td>2.000000</td>\n",
       "      <td>3.000000</td>\n",
       "      <td>2.000000</td>\n",
       "      <td>2.000000</td>\n",
       "      <td>4.000000</td>\n",
       "      <td>2.000000</td>\n",
       "      <td>NaN</td>\n",
       "      <td>1.000000</td>\n",
       "      <td>0.020000</td>\n",
       "    </tr>\n",
       "    <tr>\n",
       "      <th>25%</th>\n",
       "      <td>3.258256e+06</td>\n",
       "      <td>2.016010e+13</td>\n",
       "      <td>3.275204e+06</td>\n",
       "      <td>1.000000</td>\n",
       "      <td>1.000000</td>\n",
       "      <td>47.609418</td>\n",
       "      <td>-122.354320</td>\n",
       "      <td>2.000000</td>\n",
       "      <td>1.000000</td>\n",
       "      <td>1.000000</td>\n",
       "      <td>...</td>\n",
       "      <td>93.000000</td>\n",
       "      <td>9.000000</td>\n",
       "      <td>9.000000</td>\n",
       "      <td>10.000000</td>\n",
       "      <td>10.000000</td>\n",
       "      <td>9.000000</td>\n",
       "      <td>9.000000</td>\n",
       "      <td>NaN</td>\n",
       "      <td>1.000000</td>\n",
       "      <td>0.695000</td>\n",
       "    </tr>\n",
       "    <tr>\n",
       "      <th>50%</th>\n",
       "      <td>6.118244e+06</td>\n",
       "      <td>2.016010e+13</td>\n",
       "      <td>1.055814e+07</td>\n",
       "      <td>1.000000</td>\n",
       "      <td>1.000000</td>\n",
       "      <td>47.623601</td>\n",
       "      <td>-122.328874</td>\n",
       "      <td>3.000000</td>\n",
       "      <td>1.000000</td>\n",
       "      <td>1.000000</td>\n",
       "      <td>...</td>\n",
       "      <td>96.000000</td>\n",
       "      <td>10.000000</td>\n",
       "      <td>10.000000</td>\n",
       "      <td>10.000000</td>\n",
       "      <td>10.000000</td>\n",
       "      <td>10.000000</td>\n",
       "      <td>10.000000</td>\n",
       "      <td>NaN</td>\n",
       "      <td>1.000000</td>\n",
       "      <td>1.540000</td>\n",
       "    </tr>\n",
       "    <tr>\n",
       "      <th>75%</th>\n",
       "      <td>8.035127e+06</td>\n",
       "      <td>2.016010e+13</td>\n",
       "      <td>2.590309e+07</td>\n",
       "      <td>3.000000</td>\n",
       "      <td>3.000000</td>\n",
       "      <td>47.662694</td>\n",
       "      <td>-122.310800</td>\n",
       "      <td>4.000000</td>\n",
       "      <td>1.000000</td>\n",
       "      <td>2.000000</td>\n",
       "      <td>...</td>\n",
       "      <td>99.000000</td>\n",
       "      <td>10.000000</td>\n",
       "      <td>10.000000</td>\n",
       "      <td>10.000000</td>\n",
       "      <td>10.000000</td>\n",
       "      <td>10.000000</td>\n",
       "      <td>10.000000</td>\n",
       "      <td>NaN</td>\n",
       "      <td>2.000000</td>\n",
       "      <td>3.000000</td>\n",
       "    </tr>\n",
       "    <tr>\n",
       "      <th>max</th>\n",
       "      <td>1.034016e+07</td>\n",
       "      <td>2.016010e+13</td>\n",
       "      <td>5.320861e+07</td>\n",
       "      <td>502.000000</td>\n",
       "      <td>502.000000</td>\n",
       "      <td>47.733358</td>\n",
       "      <td>-122.240607</td>\n",
       "      <td>16.000000</td>\n",
       "      <td>8.000000</td>\n",
       "      <td>7.000000</td>\n",
       "      <td>...</td>\n",
       "      <td>100.000000</td>\n",
       "      <td>10.000000</td>\n",
       "      <td>10.000000</td>\n",
       "      <td>10.000000</td>\n",
       "      <td>10.000000</td>\n",
       "      <td>10.000000</td>\n",
       "      <td>10.000000</td>\n",
       "      <td>NaN</td>\n",
       "      <td>37.000000</td>\n",
       "      <td>12.150000</td>\n",
       "    </tr>\n",
       "  </tbody>\n",
       "</table>\n",
       "<p>8 rows � 30 columns</p>\n",
       "</div>"
      ],
      "text/plain": [
       "                 id     scrape_id       host_id  host_listings_count  \\\n",
       "count  3.818000e+03  3.818000e+03  3.818000e+03          3816.000000   \n",
       "mean   5.550111e+06  2.016010e+13  1.578556e+07             7.157757   \n",
       "std    2.962660e+06  0.000000e+00  1.458382e+07            28.628149   \n",
       "min    3.335000e+03  2.016010e+13  4.193000e+03             1.000000   \n",
       "25%    3.258256e+06  2.016010e+13  3.275204e+06             1.000000   \n",
       "50%    6.118244e+06  2.016010e+13  1.055814e+07             1.000000   \n",
       "75%    8.035127e+06  2.016010e+13  2.590309e+07             3.000000   \n",
       "max    1.034016e+07  2.016010e+13  5.320861e+07           502.000000   \n",
       "\n",
       "       host_total_listings_count     latitude    longitude  accommodates  \\\n",
       "count                3816.000000  3818.000000  3818.000000   3818.000000   \n",
       "mean                    7.157757    47.628961  -122.333103      3.349398   \n",
       "std                    28.628149     0.043052     0.031745      1.977599   \n",
       "min                     1.000000    47.505088  -122.417219      1.000000   \n",
       "25%                     1.000000    47.609418  -122.354320      2.000000   \n",
       "50%                     1.000000    47.623601  -122.328874      3.000000   \n",
       "75%                     3.000000    47.662694  -122.310800      4.000000   \n",
       "max                   502.000000    47.733358  -122.240607     16.000000   \n",
       "\n",
       "         bathrooms     bedrooms  ...  review_scores_rating  \\\n",
       "count  3802.000000  3812.000000  ...           3171.000000   \n",
       "mean      1.259469     1.307712  ...             94.539262   \n",
       "std       0.590369     0.883395  ...              6.606083   \n",
       "min       0.000000     0.000000  ...             20.000000   \n",
       "25%       1.000000     1.000000  ...             93.000000   \n",
       "50%       1.000000     1.000000  ...             96.000000   \n",
       "75%       1.000000     2.000000  ...             99.000000   \n",
       "max       8.000000     7.000000  ...            100.000000   \n",
       "\n",
       "       review_scores_accuracy  review_scores_cleanliness  \\\n",
       "count             3160.000000                3165.000000   \n",
       "mean                 9.636392                   9.556398   \n",
       "std                  0.698031                   0.797274   \n",
       "min                  2.000000                   3.000000   \n",
       "25%                  9.000000                   9.000000   \n",
       "50%                 10.000000                  10.000000   \n",
       "75%                 10.000000                  10.000000   \n",
       "max                 10.000000                  10.000000   \n",
       "\n",
       "       review_scores_checkin  review_scores_communication  \\\n",
       "count            3160.000000                  3167.000000   \n",
       "mean                9.786709                     9.809599   \n",
       "std                 0.595499                     0.568211   \n",
       "min                 2.000000                     2.000000   \n",
       "25%                10.000000                    10.000000   \n",
       "50%                10.000000                    10.000000   \n",
       "75%                10.000000                    10.000000   \n",
       "max                10.000000                    10.000000   \n",
       "\n",
       "       review_scores_location  review_scores_value  license  \\\n",
       "count             3163.000000          3162.000000      0.0   \n",
       "mean                 9.608916             9.452245      NaN   \n",
       "std                  0.629053             0.750259      NaN   \n",
       "min                  4.000000             2.000000      NaN   \n",
       "25%                  9.000000             9.000000      NaN   \n",
       "50%                 10.000000            10.000000      NaN   \n",
       "75%                 10.000000            10.000000      NaN   \n",
       "max                 10.000000            10.000000      NaN   \n",
       "\n",
       "       calculated_host_listings_count  reviews_per_month  \n",
       "count                     3818.000000        3191.000000  \n",
       "mean                         2.946307           2.078919  \n",
       "std                          5.893029           1.822348  \n",
       "min                          1.000000           0.020000  \n",
       "25%                          1.000000           0.695000  \n",
       "50%                          1.000000           1.540000  \n",
       "75%                          2.000000           3.000000  \n",
       "max                         37.000000          12.150000  \n",
       "\n",
       "[8 rows x 30 columns]"
      ]
     },
     "execution_count": 5,
     "metadata": {},
     "output_type": "execute_result"
    }
   ],
   "source": [
    "print(listings_df.columns)\n",
    "listings_df.describe()"
   ]
  },
  {
   "cell_type": "code",
   "execution_count": 6,
   "metadata": {},
   "outputs": [
    {
     "data": {
      "image/png": "[encoded data removed]",
      "text/plain": [
       "<Figure size 432x288 with 2 Axes>"
      ]
     },
     "metadata": {},
     "output_type": "display_data"
    }
   ],
   "source": [
    "sns.heatmap(listings_df.corr());"
   ]
  },
  {
   "cell_type": "markdown",
   "metadata": {},
   "source": [
    "It looks like some of these variables are highly correlated, mostly as we would expect -- for example, if one review score is high, the others are likely high as well (eg. rating, accuracy, cleanliness, checkin, communication, value); the location review is the least correlated to the others, which also makes sense. \n",
    "\n",
    "Likewise, availabilities are highly correlated (30, 60, 90, 365) as are the variables related to the house size (accomodates, bathrooms, bedrooms, beds, square feet). When determining predictor variables to use, we won't want to use all of the highly correlated values, but perhaps only one most representative value from each group. \n",
    "\n",
    "Let's look at a correlation matrix with a reduced number of variables, first let's find a list of the most highly correlated variables in a systematic way. Here I'm following steps from this \n",
    "https://chrisalbon.com/machine_learning/feature_selection/drop_highly_correlated_features/"
   ]
  },
  {
   "cell_type": "code",
   "execution_count": 7,
   "metadata": {},
   "outputs": [
    {
     "data": {
      "text/plain": [
       "['host_total_listings_count', 'availability_90']"
      ]
     },
     "execution_count": 7,
     "metadata": {},
     "output_type": "execute_result"
    }
   ],
   "source": [
    "# Create correlation matrix\n",
    "corr_matrix = listings_df.corr().abs()\n",
    "\n",
    "# Select upper triangle of correlation matrix\n",
    "upper = corr_matrix.where(np.triu(np.ones(corr_matrix.shape), k=1).astype(np.bool))\n",
    "\n",
    "# Find index of feature columns with correlation greater than 0.95\n",
    "to_drop = [column for column in upper.columns if any(upper[column] > 0.95)]\n",
    "to_drop"
   ]
  },
  {
   "cell_type": "markdown",
   "metadata": {},
   "source": [
    "Here we can see that we found the two most highly correlated features. Let's turn this into a function and test some different thresholds to see if we can get some of the other variables we saw that look like they have high correlations. Looking at the heatmap, let's try a correlation threshold of 0.8 to see what that gives us:"
   ]
  },
  {
   "cell_type": "code",
   "execution_count": 8,
   "metadata": {},
   "outputs": [],
   "source": [
    "def find_correlated_features(df,threshold):\n",
    "    # Create correlation matrix\n",
    "    corr_matrix = df.corr().abs()\n",
    "\n",
    "    # Select upper triangle of correlation matrix\n",
    "    upper = corr_matrix.where(np.triu(np.ones(corr_matrix.shape), k=1).astype(np.bool))\n",
    "\n",
    "    # Find index of feature columns with correlation greater than 0.95\n",
    "    to_drop = [column for column in upper.columns if any(upper[column] > threshold)]\n",
    "    \n",
    "    return to_drop"
   ]
  },
  {
   "cell_type": "code",
   "execution_count": 9,
   "metadata": {},
   "outputs": [
    {
     "name": "stdout",
     "output_type": "stream",
     "text": [
      "['host_total_listings_count', 'beds', 'availability_60', 'availability_90']\n"
     ]
    }
   ],
   "source": [
    "corr_cols = find_correlated_features(listings_df,0.8)\n",
    "print(corr_cols)"
   ]
  },
  {
   "cell_type": "markdown",
   "metadata": {},
   "source": [
    "Ok, this gave us a few more. Let's loop through a number of different thresholds from 0.5 to 0.9 and list the correlated columns for each threshold. We can then select the set that looks the best, upon comparison:"
   ]
  },
  {
   "cell_type": "code",
   "execution_count": 10,
   "metadata": {},
   "outputs": [
    {
     "name": "stdout",
     "output_type": "stream",
     "text": [
      "0.5:host_id,host_total_listings_count,bathrooms,bedrooms,beds,guests_included,availability_60,availability_90,availability_365,number_of_reviews,review_scores_accuracy,review_scores_cleanliness,review_scores_checkin,review_scores_communication,review_scores_value,reviews_per_month\n",
      "0.6:host_total_listings_count,bedrooms,beds,availability_60,availability_90,availability_365,review_scores_accuracy,review_scores_cleanliness,review_scores_communication,review_scores_value\n",
      "0.7:host_total_listings_count,bedrooms,beds,availability_60,availability_90\n",
      "0.8:host_total_listings_count,beds,availability_60,availability_90\n",
      "0.9:host_total_listings_count,availability_60,availability_90\n"
     ]
    }
   ],
   "source": [
    "thresholds = [0.5,0.6,0.7,0.8,0.9]\n",
    "for t in thresholds:\n",
    "    cols = find_correlated_features(listings_df,t)\n",
    "    print(str(t) + ':' + ','.join(cols))"
   ]
  },
  {
   "cell_type": "code",
   "execution_count": 11,
   "metadata": {},
   "outputs": [],
   "source": [
    "# Drop features with > 50% correlation\n",
    "cols_to_drop = find_correlated_features(listings_df,0.5)\n",
    "listings_df2 = listings_df.copy().drop(listings_df[cols_to_drop], axis=1)"
   ]
  },
  {
   "cell_type": "code",
   "execution_count": 12,
   "metadata": {},
   "outputs": [
    {
     "data": {
      "text/html": [
       "<div>\n",
       "<style scoped>\n",
       "    .dataframe tbody tr th:only-of-type {\n",
       "        vertical-align: middle;\n",
       "    }\n",
       "\n",
       "    .dataframe tbody tr th {\n",
       "        vertical-align: top;\n",
       "    }\n",
       "\n",
       "    .dataframe thead th {\n",
       "        text-align: right;\n",
       "    }\n",
       "</style>\n",
       "<table border=\"1\" class=\"dataframe\">\n",
       "  <thead>\n",
       "    <tr style=\"text-align: right;\">\n",
       "      <th></th>\n",
       "      <th>id</th>\n",
       "      <th>listing_url</th>\n",
       "      <th>scrape_id</th>\n",
       "      <th>last_scraped</th>\n",
       "      <th>name</th>\n",
       "      <th>summary</th>\n",
       "      <th>space</th>\n",
       "      <th>description</th>\n",
       "      <th>experiences_offered</th>\n",
       "      <th>neighborhood_overview</th>\n",
       "      <th>...</th>\n",
       "      <th>review_scores_rating</th>\n",
       "      <th>review_scores_location</th>\n",
       "      <th>requires_license</th>\n",
       "      <th>license</th>\n",
       "      <th>jurisdiction_names</th>\n",
       "      <th>instant_bookable</th>\n",
       "      <th>cancellation_policy</th>\n",
       "      <th>require_guest_profile_picture</th>\n",
       "      <th>require_guest_phone_verification</th>\n",
       "      <th>calculated_host_listings_count</th>\n",
       "    </tr>\n",
       "  </thead>\n",
       "  <tbody>\n",
       "    <tr>\n",
       "      <th>0</th>\n",
       "      <td>241032</td>\n",
       "      <td>https://www.airbnb.com/rooms/241032</td>\n",
       "      <td>20160104002432</td>\n",
       "      <td>2016-01-04</td>\n",
       "      <td>Stylish Queen Anne Apartment</td>\n",
       "      <td>NaN</td>\n",
       "      <td>Make your self at home in this charming one-be...</td>\n",
       "      <td>Make your self at home in this charming one-be...</td>\n",
       "      <td>none</td>\n",
       "      <td>NaN</td>\n",
       "      <td>...</td>\n",
       "      <td>95.0</td>\n",
       "      <td>9.0</td>\n",
       "      <td>f</td>\n",
       "      <td>NaN</td>\n",
       "      <td>WASHINGTON</td>\n",
       "      <td>f</td>\n",
       "      <td>moderate</td>\n",
       "      <td>f</td>\n",
       "      <td>f</td>\n",
       "      <td>2</td>\n",
       "    </tr>\n",
       "    <tr>\n",
       "      <th>1</th>\n",
       "      <td>953595</td>\n",
       "      <td>https://www.airbnb.com/rooms/953595</td>\n",
       "      <td>20160104002432</td>\n",
       "      <td>2016-01-04</td>\n",
       "      <td>Bright &amp; Airy Queen Anne Apartment</td>\n",
       "      <td>Chemically sensitive? We've removed the irrita...</td>\n",
       "      <td>Beautiful, hypoallergenic apartment in an extr...</td>\n",
       "      <td>Chemically sensitive? We've removed the irrita...</td>\n",
       "      <td>none</td>\n",
       "      <td>Queen Anne is a wonderful, truly functional vi...</td>\n",
       "      <td>...</td>\n",
       "      <td>96.0</td>\n",
       "      <td>10.0</td>\n",
       "      <td>f</td>\n",
       "      <td>NaN</td>\n",
       "      <td>WASHINGTON</td>\n",
       "      <td>f</td>\n",
       "      <td>strict</td>\n",
       "      <td>t</td>\n",
       "      <td>t</td>\n",
       "      <td>6</td>\n",
       "    </tr>\n",
       "    <tr>\n",
       "      <th>2</th>\n",
       "      <td>3308979</td>\n",
       "      <td>https://www.airbnb.com/rooms/3308979</td>\n",
       "      <td>20160104002432</td>\n",
       "      <td>2016-01-04</td>\n",
       "      <td>New Modern House-Amazing water view</td>\n",
       "      <td>New modern house built in 2013.  Spectacular s...</td>\n",
       "      <td>Our house is modern, light and fresh with a wa...</td>\n",
       "      <td>New modern house built in 2013.  Spectacular s...</td>\n",
       "      <td>none</td>\n",
       "      <td>Upper Queen Anne is a charming neighborhood fu...</td>\n",
       "      <td>...</td>\n",
       "      <td>97.0</td>\n",
       "      <td>10.0</td>\n",
       "      <td>f</td>\n",
       "      <td>NaN</td>\n",
       "      <td>WASHINGTON</td>\n",
       "      <td>f</td>\n",
       "      <td>strict</td>\n",
       "      <td>f</td>\n",
       "      <td>f</td>\n",
       "      <td>2</td>\n",
       "    </tr>\n",
       "  </tbody>\n",
       "</table>\n",
       "<p>3 rows � 76 columns</p>\n",
       "</div>"
      ],
      "text/plain": [
       "        id                           listing_url       scrape_id last_scraped  \\\n",
       "0   241032   https://www.airbnb.com/rooms/241032  20160104002432   2016-01-04   \n",
       "1   953595   https://www.airbnb.com/rooms/953595  20160104002432   2016-01-04   \n",
       "2  3308979  https://www.airbnb.com/rooms/3308979  20160104002432   2016-01-04   \n",
       "\n",
       "                                  name  \\\n",
       "0         Stylish Queen Anne Apartment   \n",
       "1   Bright & Airy Queen Anne Apartment   \n",
       "2  New Modern House-Amazing water view   \n",
       "\n",
       "                                             summary  \\\n",
       "0                                                NaN   \n",
       "1  Chemically sensitive? We've removed the irrita...   \n",
       "2  New modern house built in 2013.  Spectacular s...   \n",
       "\n",
       "                                               space  \\\n",
       "0  Make your self at home in this charming one-be...   \n",
       "1  Beautiful, hypoallergenic apartment in an extr...   \n",
       "2  Our house is modern, light and fresh with a wa...   \n",
       "\n",
       "                                         description experiences_offered  \\\n",
       "0  Make your self at home in this charming one-be...                none   \n",
       "1  Chemically sensitive? We've removed the irrita...                none   \n",
       "2  New modern house built in 2013.  Spectacular s...                none   \n",
       "\n",
       "                               neighborhood_overview  ...  \\\n",
       "0                                                NaN  ...   \n",
       "1  Queen Anne is a wonderful, truly functional vi...  ...   \n",
       "2  Upper Queen Anne is a charming neighborhood fu...  ...   \n",
       "\n",
       "  review_scores_rating review_scores_location requires_license license  \\\n",
       "0                 95.0                    9.0                f     NaN   \n",
       "1                 96.0                   10.0                f     NaN   \n",
       "2                 97.0                   10.0                f     NaN   \n",
       "\n",
       "  jurisdiction_names instant_bookable cancellation_policy  \\\n",
       "0         WASHINGTON                f            moderate   \n",
       "1         WASHINGTON                f              strict   \n",
       "2         WASHINGTON                f              strict   \n",
       "\n",
       "  require_guest_profile_picture require_guest_phone_verification  \\\n",
       "0                             f                                f   \n",
       "1                             t                                t   \n",
       "2                             f                                f   \n",
       "\n",
       "  calculated_host_listings_count  \n",
       "0                              2  \n",
       "1                              6  \n",
       "2                              2  \n",
       "\n",
       "[3 rows x 76 columns]"
      ]
     },
     "execution_count": 12,
     "metadata": {},
     "output_type": "execute_result"
    }
   ],
   "source": [
    "listings_df2.head(3)"
   ]
  },
  {
   "cell_type": "code",
   "execution_count": 13,
   "metadata": {},
   "outputs": [
    {
     "data": {
      "image/png": "[encoded data removed]",
      "text/plain": [
       "<Figure size 432x288 with 2 Axes>"
      ]
     },
     "metadata": {},
     "output_type": "display_data"
    }
   ],
   "source": [
    "listings_df2 = listings_df2.drop(labels=['id','scrape_id','license'],axis=1)\n",
    "sns.heatmap(listings_df2.corr());"
   ]
  },
  {
   "cell_type": "code",
   "execution_count": 14,
   "metadata": {},
   "outputs": [
    {
     "name": "stderr",
     "output_type": "stream",
     "text": [
      "C:\\Users\\bhass\\AppData\\Local\\Continuum\\Anaconda3\\envs\\py36\\lib\\site-packages\\ipykernel\\__main__.py:2: UserWarning: To output multiple subplots, the figure containing the passed axes is being cleared\n",
      "  from ipykernel import kernelapp as app\n"
     ]
    },
    {
     "data": {
      "image/png": "[encoded data removed]",
      "text/plain": [
       "<Figure size 1080x1080 with 30 Axes>"
      ]
     },
     "metadata": {},
     "output_type": "display_data"
    }
   ],
   "source": [
    "fig = plt.figure(figsize = (15,15))\n",
    "listings_df.hist(ax = fig.gca());"
   ]
  },
  {
   "cell_type": "code",
   "execution_count": 15,
   "metadata": {},
   "outputs": [
    {
     "data": {
      "text/plain": [
       "{'license', 'monthly_price', 'security_deposit', 'square_feet'}"
      ]
     },
     "execution_count": 15,
     "metadata": {},
     "output_type": "execute_result"
    }
   ],
   "source": [
    "most_missing_cols = set(listings_df.columns[listings_df.isnull().mean() > 0.5])\n",
    "most_missing_cols"
   ]
  },
  {
   "cell_type": "markdown",
   "metadata": {},
   "source": [
    "## 2. Neighbourhood Exploration\n",
    "\n",
    "After getting this initial understanding of the data, let's take a look at the neighbourhoods:"
   ]
  },
  {
   "cell_type": "code",
   "execution_count": 16,
   "metadata": {},
   "outputs": [
    {
     "data": {
      "text/plain": [
       "array(['Queen Anne', nan, 'Ballard', 'Phinney Ridge', 'Fremont',\n",
       "       'Lower Queen Anne', 'Westlake', 'Wallingford', 'Green Lake',\n",
       "       'Minor', 'Madrona', 'Harrison/Denny-Blaine', 'Leschi',\n",
       "       'University District', 'Roosevelt', 'Madison Park', 'Capitol Hill',\n",
       "       'Atlantic', 'North Beacon Hill', 'Central Business District',\n",
       "       'Pike Place Market', 'Pike Market', 'Eastlake', 'Portage Bay',\n",
       "       'South Lake Union', 'Magnolia', 'Belltown',\n",
       "       'International District', 'Yesler Terrace', 'First Hill',\n",
       "       'Pioneer Square', 'Gatewood', 'The Junction', 'Arbor Heights',\n",
       "       'Alki', 'North Admiral', 'Crown Hill', 'Genesee', 'Fairmount Park',\n",
       "       'Interbay', 'Industrial District', 'Holly Park',\n",
       "       'South Beacon Hill', 'Greenwood', 'Bitter Lake', 'Fauntleroy',\n",
       "       'Mount Baker', 'Columbia City', 'Seward Park', 'Brighton',\n",
       "       'South Delridge', 'Highland Park', 'High Point', 'View Ridge',\n",
       "       'Windermere', 'Dunlap', 'Rainier Beach', 'North Delridge',\n",
       "       'Maple Leaf', 'Bryant', 'Ravenna', 'Wedgewood', 'Riverview',\n",
       "       'Montlake', 'Broadway', 'Stevens', 'Victory Heights',\n",
       "       'Mathews Beach', 'Cedar Park', 'Meadowbrook', 'Olympic Hills',\n",
       "       'North Beach/Blue Ridge', 'Broadview', 'Haller Lake', 'Pinehurst',\n",
       "       'Licton Springs', 'North College Park', 'Laurelhurst', 'Seaview',\n",
       "       'Georgetown', 'South Park', 'Roxhill'], dtype=object)"
      ]
     },
     "execution_count": 16,
     "metadata": {},
     "output_type": "execute_result"
    }
   ],
   "source": [
    "listings_df['neighbourhood'].unique()"
   ]
  },
  {
   "cell_type": "code",
   "execution_count": 17,
   "metadata": {},
   "outputs": [
    {
     "data": {
      "text/plain": [
       "Other neighborhoods    794\n",
       "Capitol Hill           567\n",
       "Downtown               530\n",
       "Central Area           369\n",
       "Queen Anne             295\n",
       "Ballard                230\n",
       "West Seattle           203\n",
       "Rainier Valley         159\n",
       "University District    122\n",
       "Beacon Hill            118\n",
       "Cascade                 89\n",
       "Northgate               80\n",
       "Delridge                79\n",
       "Lake City               67\n",
       "Magnolia                61\n",
       "Seward Park             44\n",
       "Interbay                11\n",
       "Name: neighbourhood_group_cleansed, dtype: int64"
      ]
     },
     "execution_count": 17,
     "metadata": {},
     "output_type": "execute_result"
    }
   ],
   "source": [
    "listings_df['neighbourhood_group_cleansed'].value_counts()"
   ]
  },
  {
   "cell_type": "markdown",
   "metadata": {},
   "source": [
    "From this initial look at the dataset, some questions to consider include:\n",
    "\n",
    "    1) do cleanliness review scores vary significantly between different neighborhoods (or neighbourhood groups)?\n",
    "    2) Are there certain neighbourhoods that have higher proportions of shared housing listings (private room or shared room)"
   ]
  },
  {
   "cell_type": "markdown",
   "metadata": {},
   "source": [
    "### 2a. Neighbourhood Cleanliness"
   ]
  },
  {
   "cell_type": "code",
   "execution_count": 18,
   "metadata": {},
   "outputs": [
    {
     "data": {
      "text/html": [
       "<div>\n",
       "<style scoped>\n",
       "    .dataframe tbody tr th:only-of-type {\n",
       "        vertical-align: middle;\n",
       "    }\n",
       "\n",
       "    .dataframe tbody tr th {\n",
       "        vertical-align: top;\n",
       "    }\n",
       "\n",
       "    .dataframe thead tr th {\n",
       "        text-align: left;\n",
       "    }\n",
       "</style>\n",
       "<table border=\"1\" class=\"dataframe\">\n",
       "  <thead>\n",
       "    <tr>\n",
       "      <th></th>\n",
       "      <th>neighbourhood</th>\n",
       "      <th colspan=\"2\" halign=\"left\">latitude</th>\n",
       "      <th colspan=\"2\" halign=\"left\">longitude</th>\n",
       "      <th colspan=\"2\" halign=\"left\">review_scores_cleanliness</th>\n",
       "    </tr>\n",
       "    <tr>\n",
       "      <th></th>\n",
       "      <th></th>\n",
       "      <th>mean</th>\n",
       "      <th>count</th>\n",
       "      <th>mean</th>\n",
       "      <th>count</th>\n",
       "      <th>mean</th>\n",
       "      <th>count</th>\n",
       "    </tr>\n",
       "  </thead>\n",
       "  <tbody>\n",
       "    <tr>\n",
       "      <th>0</th>\n",
       "      <td>Alki</td>\n",
       "      <td>47.571967</td>\n",
       "      <td>23</td>\n",
       "      <td>-122.408159</td>\n",
       "      <td>23</td>\n",
       "      <td>9.733333</td>\n",
       "      <td>15</td>\n",
       "    </tr>\n",
       "    <tr>\n",
       "      <th>1</th>\n",
       "      <td>Arbor Heights</td>\n",
       "      <td>47.510145</td>\n",
       "      <td>3</td>\n",
       "      <td>-122.381473</td>\n",
       "      <td>3</td>\n",
       "      <td>9.666667</td>\n",
       "      <td>3</td>\n",
       "    </tr>\n",
       "    <tr>\n",
       "      <th>2</th>\n",
       "      <td>Atlantic</td>\n",
       "      <td>47.594896</td>\n",
       "      <td>50</td>\n",
       "      <td>-122.304818</td>\n",
       "      <td>50</td>\n",
       "      <td>9.627907</td>\n",
       "      <td>43</td>\n",
       "    </tr>\n",
       "    <tr>\n",
       "      <th>3</th>\n",
       "      <td>Ballard</td>\n",
       "      <td>47.674617</td>\n",
       "      <td>213</td>\n",
       "      <td>-122.379902</td>\n",
       "      <td>213</td>\n",
       "      <td>9.666667</td>\n",
       "      <td>183</td>\n",
       "    </tr>\n",
       "    <tr>\n",
       "      <th>4</th>\n",
       "      <td>Belltown</td>\n",
       "      <td>47.615125</td>\n",
       "      <td>204</td>\n",
       "      <td>-122.345542</td>\n",
       "      <td>204</td>\n",
       "      <td>9.543956</td>\n",
       "      <td>182</td>\n",
       "    </tr>\n",
       "  </tbody>\n",
       "</table>\n",
       "</div>"
      ],
      "text/plain": [
       "   neighbourhood   latitude         longitude       review_scores_cleanliness  \\\n",
       "                       mean count        mean count                      mean   \n",
       "0           Alki  47.571967    23 -122.408159    23                  9.733333   \n",
       "1  Arbor Heights  47.510145     3 -122.381473     3                  9.666667   \n",
       "2       Atlantic  47.594896    50 -122.304818    50                  9.627907   \n",
       "3        Ballard  47.674617   213 -122.379902   213                  9.666667   \n",
       "4       Belltown  47.615125   204 -122.345542   204                  9.543956   \n",
       "\n",
       "         \n",
       "  count  \n",
       "0    15  \n",
       "1     3  \n",
       "2    43  \n",
       "3   183  \n",
       "4   182  "
      ]
     },
     "execution_count": 18,
     "metadata": {},
     "output_type": "execute_result"
    }
   ],
   "source": [
    "hood_ratings = listings_df.copy().groupby('neighbourhood').agg(['mean','count'])\n",
    "hood_ratings = hood_ratings[['latitude','longitude','review_scores_cleanliness']].reset_index()\n",
    "hood_ratings.head()"
   ]
  },
  {
   "cell_type": "markdown",
   "metadata": {},
   "source": [
    "Get the center location of all the listings:"
   ]
  },
  {
   "cell_type": "code",
   "execution_count": 19,
   "metadata": {},
   "outputs": [
    {
     "name": "stdout",
     "output_type": "stream",
     "text": [
      "47.629\n",
      "-122.333\n"
     ]
    }
   ],
   "source": [
    "print(np.round(listings_df['latitude'].mean(),3))\n",
    "print(np.round(listings_df['longitude'].mean(),3))"
   ]
  },
  {
   "cell_type": "markdown",
   "metadata": {},
   "source": [
    "Let's look at a map centered at this mean lat/lon, so we can more easily visualize trends related to neighborhood:"
   ]
  },
  {
   "cell_type": "code",
   "execution_count": 20,
   "metadata": {},
   "outputs": [
    {
     "data": {
      "image/png": "[encoded data removed]",
      "text/plain": [
       "<Figure size 576x576 with 2 Axes>"
      ]
     },
     "metadata": {},
     "output_type": "display_data"
    }
   ],
   "source": [
    "fig = plt.figure(figsize=(8, 8))\n",
    "m = Basemap(projection='lcc', lat_0=47.629, lon_0=-122.333,\n",
    "            width=20000, height=27500, resolution='h');\n",
    "m.fillcontinents(color=\"lightgreen\", lake_color='#DDEEFF',alpha=0.1);\n",
    "m.drawmapboundary(fill_color=\"#DDEEFF\");\n",
    "m.drawcoastlines();\n",
    "\n",
    "# Extract the data we're interested in\n",
    "lats = hood_ratings[('latitude','mean')].values\n",
    "lons = hood_ratings[('longitude','mean')].values\n",
    "hoods = hood_ratings['neighbourhood'].values\n",
    "mean_clean_ratings = hood_ratings[('review_scores_cleanliness','mean')].values\n",
    "count = hood_ratings[('review_scores_cleanliness','count')].values\n",
    "\n",
    "# scatter airbnb data, with color reflecting rating [and size reflecting # of points]\n",
    "m.scatter(lons, lats, latlon=True,\n",
    "          c=mean_clean_ratings, s=count,\n",
    "          cmap='seismic', alpha=0.5)\n",
    "         \n",
    "# create colorbar and legend\n",
    "plt.colorbar(label='mean neighborhood cleanliness rating')\n",
    "\n",
    "# make legend with dummy points\n",
    "for a in [5, 100, 250]:\n",
    "    plt.scatter([], [], c='k', alpha=0.5, s=a, label=str(a) + ' points')\n",
    "plt.legend(scatterpoints=1, frameon=False,labelspacing=1, loc='upper left');\n",
    "plt.gca().set_title(\"Seattle Cleanliness Ratings by Neighborhood\");"
   ]
  },
  {
   "cell_type": "markdown",
   "metadata": {},
   "source": [
    "From these map, we can gather a few things:\n",
    "    1. in general the mean score is fairly high (>8.8), and most neighbhorhoods score above 9.4. This could be because all the AirBnBs are fairly clean, or because people tend to leave more positive ratings if they leave a review, or any number of other reasons. \n",
    "    2. there are more data points near the center of Seattle, and may not be sufficient data points on the outskirts of Seattle to make any definitive conclusions about those neighbourhoods.\n",
    "    3. There are a few neighborhoods with a large number of datapoints that have a lower overall cleanliness rating, eg. possibly the University district. "
   ]
  },
  {
   "cell_type": "markdown",
   "metadata": {},
   "source": [
    "Let's pull in a map of the neighborhoods for reference:\n",
    "\n",
    "<img src=\"seattle-hoods.jpg\" style=\"width: 400px;\">\n",
    "\n",
    "Source: https://www.remaxonmarket.com/search-seattle-homes-by-neighborhood/"
   ]
  },
  {
   "cell_type": "markdown",
   "metadata": {},
   "source": [
    "Let's look at the top 5 neighborhoods with the cleanest and dirtiest ratings:"
   ]
  },
  {
   "cell_type": "code",
   "execution_count": 21,
   "metadata": {},
   "outputs": [
    {
     "data": {
      "text/html": [
       "<div>\n",
       "<style scoped>\n",
       "    .dataframe tbody tr th:only-of-type {\n",
       "        vertical-align: middle;\n",
       "    }\n",
       "\n",
       "    .dataframe tbody tr th {\n",
       "        vertical-align: top;\n",
       "    }\n",
       "\n",
       "    .dataframe thead tr th {\n",
       "        text-align: left;\n",
       "    }\n",
       "</style>\n",
       "<table border=\"1\" class=\"dataframe\">\n",
       "  <thead>\n",
       "    <tr>\n",
       "      <th></th>\n",
       "      <th>neighbourhood</th>\n",
       "      <th colspan=\"2\" halign=\"left\">latitude</th>\n",
       "      <th colspan=\"2\" halign=\"left\">longitude</th>\n",
       "      <th colspan=\"2\" halign=\"left\">review_scores_cleanliness</th>\n",
       "    </tr>\n",
       "    <tr>\n",
       "      <th></th>\n",
       "      <th></th>\n",
       "      <th>mean</th>\n",
       "      <th>count</th>\n",
       "      <th>mean</th>\n",
       "      <th>count</th>\n",
       "      <th>mean</th>\n",
       "      <th>count</th>\n",
       "    </tr>\n",
       "  </thead>\n",
       "  <tbody>\n",
       "    <tr>\n",
       "      <th>61</th>\n",
       "      <td>Ravenna</td>\n",
       "      <td>47.674228</td>\n",
       "      <td>59</td>\n",
       "      <td>-122.301445</td>\n",
       "      <td>59</td>\n",
       "      <td>9.250000</td>\n",
       "      <td>48</td>\n",
       "    </tr>\n",
       "    <tr>\n",
       "      <th>11</th>\n",
       "      <td>Cedar Park</td>\n",
       "      <td>47.719474</td>\n",
       "      <td>8</td>\n",
       "      <td>-122.287451</td>\n",
       "      <td>8</td>\n",
       "      <td>9.142857</td>\n",
       "      <td>7</td>\n",
       "    </tr>\n",
       "    <tr>\n",
       "      <th>52</th>\n",
       "      <td>Olympic Hills</td>\n",
       "      <td>47.726167</td>\n",
       "      <td>12</td>\n",
       "      <td>-122.302964</td>\n",
       "      <td>12</td>\n",
       "      <td>9.100000</td>\n",
       "      <td>10</td>\n",
       "    </tr>\n",
       "    <tr>\n",
       "      <th>73</th>\n",
       "      <td>University District</td>\n",
       "      <td>47.662569</td>\n",
       "      <td>107</td>\n",
       "      <td>-122.314040</td>\n",
       "      <td>107</td>\n",
       "      <td>9.000000</td>\n",
       "      <td>83</td>\n",
       "    </tr>\n",
       "    <tr>\n",
       "      <th>70</th>\n",
       "      <td>South Park</td>\n",
       "      <td>47.523924</td>\n",
       "      <td>2</td>\n",
       "      <td>-122.322396</td>\n",
       "      <td>2</td>\n",
       "      <td>9.000000</td>\n",
       "      <td>1</td>\n",
       "    </tr>\n",
       "    <tr>\n",
       "      <th>67</th>\n",
       "      <td>South Beacon Hill</td>\n",
       "      <td>47.529232</td>\n",
       "      <td>2</td>\n",
       "      <td>-122.285153</td>\n",
       "      <td>2</td>\n",
       "      <td>9.000000</td>\n",
       "      <td>2</td>\n",
       "    </tr>\n",
       "    <tr>\n",
       "      <th>54</th>\n",
       "      <td>Pike Market</td>\n",
       "      <td>47.607060</td>\n",
       "      <td>2</td>\n",
       "      <td>-122.340955</td>\n",
       "      <td>2</td>\n",
       "      <td>9.000000</td>\n",
       "      <td>2</td>\n",
       "    </tr>\n",
       "    <tr>\n",
       "      <th>75</th>\n",
       "      <td>View Ridge</td>\n",
       "      <td>47.682680</td>\n",
       "      <td>6</td>\n",
       "      <td>-122.270556</td>\n",
       "      <td>6</td>\n",
       "      <td>8.800000</td>\n",
       "      <td>5</td>\n",
       "    </tr>\n",
       "    <tr>\n",
       "      <th>17</th>\n",
       "      <td>Fairmount Park</td>\n",
       "      <td>47.550024</td>\n",
       "      <td>1</td>\n",
       "      <td>-122.381231</td>\n",
       "      <td>1</td>\n",
       "      <td>NaN</td>\n",
       "      <td>0</td>\n",
       "    </tr>\n",
       "    <tr>\n",
       "      <th>50</th>\n",
       "      <td>North College Park</td>\n",
       "      <td>47.704953</td>\n",
       "      <td>1</td>\n",
       "      <td>-122.343314</td>\n",
       "      <td>1</td>\n",
       "      <td>NaN</td>\n",
       "      <td>0</td>\n",
       "    </tr>\n",
       "  </tbody>\n",
       "</table>\n",
       "</div>"
      ],
      "text/plain": [
       "          neighbourhood   latitude         longitude        \\\n",
       "                              mean count        mean count   \n",
       "61              Ravenna  47.674228    59 -122.301445    59   \n",
       "11           Cedar Park  47.719474     8 -122.287451     8   \n",
       "52        Olympic Hills  47.726167    12 -122.302964    12   \n",
       "73  University District  47.662569   107 -122.314040   107   \n",
       "70           South Park  47.523924     2 -122.322396     2   \n",
       "67    South Beacon Hill  47.529232     2 -122.285153     2   \n",
       "54          Pike Market  47.607060     2 -122.340955     2   \n",
       "75           View Ridge  47.682680     6 -122.270556     6   \n",
       "17       Fairmount Park  47.550024     1 -122.381231     1   \n",
       "50   North College Park  47.704953     1 -122.343314     1   \n",
       "\n",
       "   review_scores_cleanliness        \n",
       "                        mean count  \n",
       "61                  9.250000    48  \n",
       "11                  9.142857     7  \n",
       "52                  9.100000    10  \n",
       "73                  9.000000    83  \n",
       "70                  9.000000     1  \n",
       "67                  9.000000     2  \n",
       "54                  9.000000     2  \n",
       "75                  8.800000     5  \n",
       "17                       NaN     0  \n",
       "50                       NaN     0  "
      ]
     },
     "execution_count": 21,
     "metadata": {},
     "output_type": "execute_result"
    }
   ],
   "source": [
    "hood_ratings.sort_values([('review_scores_cleanliness','mean')],ascending=False).tail(10)"
   ]
  },
  {
   "cell_type": "code",
   "execution_count": 22,
   "metadata": {},
   "outputs": [
    {
     "data": {
      "text/html": [
       "<div>\n",
       "<style scoped>\n",
       "    .dataframe tbody tr th:only-of-type {\n",
       "        vertical-align: middle;\n",
       "    }\n",
       "\n",
       "    .dataframe tbody tr th {\n",
       "        vertical-align: top;\n",
       "    }\n",
       "\n",
       "    .dataframe thead tr th {\n",
       "        text-align: left;\n",
       "    }\n",
       "</style>\n",
       "<table border=\"1\" class=\"dataframe\">\n",
       "  <thead>\n",
       "    <tr>\n",
       "      <th></th>\n",
       "      <th>neighbourhood</th>\n",
       "      <th colspan=\"2\" halign=\"left\">latitude</th>\n",
       "      <th colspan=\"2\" halign=\"left\">longitude</th>\n",
       "      <th colspan=\"2\" halign=\"left\">review_scores_cleanliness</th>\n",
       "    </tr>\n",
       "    <tr>\n",
       "      <th></th>\n",
       "      <th></th>\n",
       "      <th>mean</th>\n",
       "      <th>count</th>\n",
       "      <th>mean</th>\n",
       "      <th>count</th>\n",
       "      <th>mean</th>\n",
       "      <th>count</th>\n",
       "    </tr>\n",
       "  </thead>\n",
       "  <tbody>\n",
       "    <tr>\n",
       "      <th>56</th>\n",
       "      <td>Pinehurst</td>\n",
       "      <td>47.712182</td>\n",
       "      <td>3</td>\n",
       "      <td>-122.319898</td>\n",
       "      <td>3</td>\n",
       "      <td>10.000000</td>\n",
       "      <td>3</td>\n",
       "    </tr>\n",
       "    <tr>\n",
       "      <th>6</th>\n",
       "      <td>Brighton</td>\n",
       "      <td>47.539153</td>\n",
       "      <td>5</td>\n",
       "      <td>-122.278180</td>\n",
       "      <td>5</td>\n",
       "      <td>10.000000</td>\n",
       "      <td>4</td>\n",
       "    </tr>\n",
       "    <tr>\n",
       "      <th>34</th>\n",
       "      <td>Laurelhurst</td>\n",
       "      <td>47.662209</td>\n",
       "      <td>9</td>\n",
       "      <td>-122.278754</td>\n",
       "      <td>9</td>\n",
       "      <td>10.000000</td>\n",
       "      <td>8</td>\n",
       "    </tr>\n",
       "    <tr>\n",
       "      <th>62</th>\n",
       "      <td>Riverview</td>\n",
       "      <td>47.543262</td>\n",
       "      <td>8</td>\n",
       "      <td>-122.356807</td>\n",
       "      <td>8</td>\n",
       "      <td>10.000000</td>\n",
       "      <td>8</td>\n",
       "    </tr>\n",
       "    <tr>\n",
       "      <th>28</th>\n",
       "      <td>High Point</td>\n",
       "      <td>47.543580</td>\n",
       "      <td>11</td>\n",
       "      <td>-122.369897</td>\n",
       "      <td>11</td>\n",
       "      <td>10.000000</td>\n",
       "      <td>8</td>\n",
       "    </tr>\n",
       "    <tr>\n",
       "      <th>64</th>\n",
       "      <td>Roxhill</td>\n",
       "      <td>47.528169</td>\n",
       "      <td>1</td>\n",
       "      <td>-122.376347</td>\n",
       "      <td>1</td>\n",
       "      <td>10.000000</td>\n",
       "      <td>1</td>\n",
       "    </tr>\n",
       "    <tr>\n",
       "      <th>53</th>\n",
       "      <td>Phinney Ridge</td>\n",
       "      <td>47.675533</td>\n",
       "      <td>56</td>\n",
       "      <td>-122.356374</td>\n",
       "      <td>56</td>\n",
       "      <td>9.906977</td>\n",
       "      <td>43</td>\n",
       "    </tr>\n",
       "    <tr>\n",
       "      <th>18</th>\n",
       "      <td>Fauntleroy</td>\n",
       "      <td>47.521486</td>\n",
       "      <td>10</td>\n",
       "      <td>-122.389487</td>\n",
       "      <td>10</td>\n",
       "      <td>9.888889</td>\n",
       "      <td>9</td>\n",
       "    </tr>\n",
       "    <tr>\n",
       "      <th>43</th>\n",
       "      <td>Meadowbrook</td>\n",
       "      <td>47.706630</td>\n",
       "      <td>9</td>\n",
       "      <td>-122.295389</td>\n",
       "      <td>9</td>\n",
       "      <td>9.857143</td>\n",
       "      <td>7</td>\n",
       "    </tr>\n",
       "    <tr>\n",
       "      <th>21</th>\n",
       "      <td>Gatewood</td>\n",
       "      <td>47.537877</td>\n",
       "      <td>18</td>\n",
       "      <td>-122.385525</td>\n",
       "      <td>18</td>\n",
       "      <td>9.846154</td>\n",
       "      <td>13</td>\n",
       "    </tr>\n",
       "  </tbody>\n",
       "</table>\n",
       "</div>"
      ],
      "text/plain": [
       "    neighbourhood   latitude         longitude        \\\n",
       "                        mean count        mean count   \n",
       "56      Pinehurst  47.712182     3 -122.319898     3   \n",
       "6        Brighton  47.539153     5 -122.278180     5   \n",
       "34    Laurelhurst  47.662209     9 -122.278754     9   \n",
       "62      Riverview  47.543262     8 -122.356807     8   \n",
       "28     High Point  47.543580    11 -122.369897    11   \n",
       "64        Roxhill  47.528169     1 -122.376347     1   \n",
       "53  Phinney Ridge  47.675533    56 -122.356374    56   \n",
       "18     Fauntleroy  47.521486    10 -122.389487    10   \n",
       "43    Meadowbrook  47.706630     9 -122.295389     9   \n",
       "21       Gatewood  47.537877    18 -122.385525    18   \n",
       "\n",
       "   review_scores_cleanliness        \n",
       "                        mean count  \n",
       "56                 10.000000     3  \n",
       "6                  10.000000     4  \n",
       "34                 10.000000     8  \n",
       "62                 10.000000     8  \n",
       "28                 10.000000     8  \n",
       "64                 10.000000     1  \n",
       "53                  9.906977    43  \n",
       "18                  9.888889     9  \n",
       "43                  9.857143     7  \n",
       "21                  9.846154    13  "
      ]
     },
     "execution_count": 22,
     "metadata": {},
     "output_type": "execute_result"
    }
   ],
   "source": [
    "hood_ratings.sort_values([('review_scores_cleanliness','mean')],ascending=False).head(10)"
   ]
  },
  {
   "cell_type": "markdown",
   "metadata": {},
   "source": [
    "As mentioned earlier, a handful of these neighbourhoods had very few data points, so we can remove these from our analysis, by taking a subset of only neighbourhoods with > 25 points."
   ]
  },
  {
   "cell_type": "code",
   "execution_count": 23,
   "metadata": {},
   "outputs": [],
   "source": [
    "hood_ratings_high_count = hood_ratings[hood_ratings[('review_scores_cleanliness','count')]>25]"
   ]
  },
  {
   "cell_type": "code",
   "execution_count": 24,
   "metadata": {},
   "outputs": [
    {
     "data": {
      "text/html": [
       "<div>\n",
       "<style scoped>\n",
       "    .dataframe tbody tr th:only-of-type {\n",
       "        vertical-align: middle;\n",
       "    }\n",
       "\n",
       "    .dataframe tbody tr th {\n",
       "        vertical-align: top;\n",
       "    }\n",
       "\n",
       "    .dataframe thead tr th {\n",
       "        text-align: left;\n",
       "    }\n",
       "</style>\n",
       "<table border=\"1\" class=\"dataframe\">\n",
       "  <thead>\n",
       "    <tr>\n",
       "      <th></th>\n",
       "      <th>neighbourhood</th>\n",
       "      <th colspan=\"2\" halign=\"left\">latitude</th>\n",
       "      <th colspan=\"2\" halign=\"left\">longitude</th>\n",
       "      <th colspan=\"2\" halign=\"left\">review_scores_cleanliness</th>\n",
       "    </tr>\n",
       "    <tr>\n",
       "      <th></th>\n",
       "      <th></th>\n",
       "      <th>mean</th>\n",
       "      <th>count</th>\n",
       "      <th>mean</th>\n",
       "      <th>count</th>\n",
       "      <th>mean</th>\n",
       "      <th>count</th>\n",
       "    </tr>\n",
       "  </thead>\n",
       "  <tbody>\n",
       "    <tr>\n",
       "      <th>53</th>\n",
       "      <td>Phinney Ridge</td>\n",
       "      <td>47.675533</td>\n",
       "      <td>56</td>\n",
       "      <td>-122.356374</td>\n",
       "      <td>56</td>\n",
       "      <td>9.906977</td>\n",
       "      <td>43</td>\n",
       "    </tr>\n",
       "    <tr>\n",
       "      <th>22</th>\n",
       "      <td>Genesee</td>\n",
       "      <td>47.565288</td>\n",
       "      <td>29</td>\n",
       "      <td>-122.385817</td>\n",
       "      <td>29</td>\n",
       "      <td>9.807692</td>\n",
       "      <td>26</td>\n",
       "    </tr>\n",
       "    <tr>\n",
       "      <th>39</th>\n",
       "      <td>Madrona</td>\n",
       "      <td>47.613210</td>\n",
       "      <td>40</td>\n",
       "      <td>-122.290727</td>\n",
       "      <td>40</td>\n",
       "      <td>9.787879</td>\n",
       "      <td>33</td>\n",
       "    </tr>\n",
       "    <tr>\n",
       "      <th>47</th>\n",
       "      <td>North Admiral</td>\n",
       "      <td>47.578909</td>\n",
       "      <td>48</td>\n",
       "      <td>-122.387890</td>\n",
       "      <td>48</td>\n",
       "      <td>9.744186</td>\n",
       "      <td>43</td>\n",
       "    </tr>\n",
       "    <tr>\n",
       "      <th>72</th>\n",
       "      <td>The Junction</td>\n",
       "      <td>47.555040</td>\n",
       "      <td>36</td>\n",
       "      <td>-122.380833</td>\n",
       "      <td>36</td>\n",
       "      <td>9.741935</td>\n",
       "      <td>31</td>\n",
       "    </tr>\n",
       "    <tr>\n",
       "      <th>59</th>\n",
       "      <td>Queen Anne</td>\n",
       "      <td>47.638069</td>\n",
       "      <td>187</td>\n",
       "      <td>-122.358780</td>\n",
       "      <td>187</td>\n",
       "      <td>9.711656</td>\n",
       "      <td>163</td>\n",
       "    </tr>\n",
       "    <tr>\n",
       "      <th>46</th>\n",
       "      <td>Mount Baker</td>\n",
       "      <td>47.575208</td>\n",
       "      <td>46</td>\n",
       "      <td>-122.287461</td>\n",
       "      <td>46</td>\n",
       "      <td>9.692308</td>\n",
       "      <td>39</td>\n",
       "    </tr>\n",
       "    <tr>\n",
       "      <th>55</th>\n",
       "      <td>Pike Place Market</td>\n",
       "      <td>47.609306</td>\n",
       "      <td>39</td>\n",
       "      <td>-122.340744</td>\n",
       "      <td>39</td>\n",
       "      <td>9.677419</td>\n",
       "      <td>31</td>\n",
       "    </tr>\n",
       "    <tr>\n",
       "      <th>9</th>\n",
       "      <td>Bryant</td>\n",
       "      <td>47.668759</td>\n",
       "      <td>32</td>\n",
       "      <td>-122.286768</td>\n",
       "      <td>32</td>\n",
       "      <td>9.666667</td>\n",
       "      <td>27</td>\n",
       "    </tr>\n",
       "    <tr>\n",
       "      <th>13</th>\n",
       "      <td>Columbia City</td>\n",
       "      <td>47.557671</td>\n",
       "      <td>61</td>\n",
       "      <td>-122.281073</td>\n",
       "      <td>61</td>\n",
       "      <td>9.666667</td>\n",
       "      <td>54</td>\n",
       "    </tr>\n",
       "  </tbody>\n",
       "</table>\n",
       "</div>"
      ],
      "text/plain": [
       "        neighbourhood   latitude         longitude        \\\n",
       "                            mean count        mean count   \n",
       "53      Phinney Ridge  47.675533    56 -122.356374    56   \n",
       "22            Genesee  47.565288    29 -122.385817    29   \n",
       "39            Madrona  47.613210    40 -122.290727    40   \n",
       "47      North Admiral  47.578909    48 -122.387890    48   \n",
       "72       The Junction  47.555040    36 -122.380833    36   \n",
       "59         Queen Anne  47.638069   187 -122.358780   187   \n",
       "46        Mount Baker  47.575208    46 -122.287461    46   \n",
       "55  Pike Place Market  47.609306    39 -122.340744    39   \n",
       "9              Bryant  47.668759    32 -122.286768    32   \n",
       "13      Columbia City  47.557671    61 -122.281073    61   \n",
       "\n",
       "   review_scores_cleanliness        \n",
       "                        mean count  \n",
       "53                  9.906977    43  \n",
       "22                  9.807692    26  \n",
       "39                  9.787879    33  \n",
       "47                  9.744186    43  \n",
       "72                  9.741935    31  \n",
       "59                  9.711656   163  \n",
       "46                  9.692308    39  \n",
       "55                  9.677419    31  \n",
       "9                   9.666667    27  \n",
       "13                  9.666667    54  "
      ]
     },
     "execution_count": 24,
     "metadata": {},
     "output_type": "execute_result"
    }
   ],
   "source": [
    "hood_ratings_high_count.sort_values([('review_scores_cleanliness','mean')],ascending=False).head(10)"
   ]
  },
  {
   "cell_type": "code",
   "execution_count": 25,
   "metadata": {},
   "outputs": [
    {
     "data": {
      "text/html": [
       "<div>\n",
       "<style scoped>\n",
       "    .dataframe tbody tr th:only-of-type {\n",
       "        vertical-align: middle;\n",
       "    }\n",
       "\n",
       "    .dataframe tbody tr th {\n",
       "        vertical-align: top;\n",
       "    }\n",
       "\n",
       "    .dataframe thead tr th {\n",
       "        text-align: left;\n",
       "    }\n",
       "</style>\n",
       "<table border=\"1\" class=\"dataframe\">\n",
       "  <thead>\n",
       "    <tr>\n",
       "      <th></th>\n",
       "      <th>neighbourhood</th>\n",
       "      <th colspan=\"2\" halign=\"left\">latitude</th>\n",
       "      <th colspan=\"2\" halign=\"left\">longitude</th>\n",
       "      <th colspan=\"2\" halign=\"left\">review_scores_cleanliness</th>\n",
       "    </tr>\n",
       "    <tr>\n",
       "      <th></th>\n",
       "      <th></th>\n",
       "      <th>mean</th>\n",
       "      <th>count</th>\n",
       "      <th>mean</th>\n",
       "      <th>count</th>\n",
       "      <th>mean</th>\n",
       "      <th>count</th>\n",
       "    </tr>\n",
       "  </thead>\n",
       "  <tbody>\n",
       "    <tr>\n",
       "      <th>73</th>\n",
       "      <td>University District</td>\n",
       "      <td>47.662569</td>\n",
       "      <td>107</td>\n",
       "      <td>-122.314040</td>\n",
       "      <td>107</td>\n",
       "      <td>9.000000</td>\n",
       "      <td>83</td>\n",
       "    </tr>\n",
       "    <tr>\n",
       "      <th>61</th>\n",
       "      <td>Ravenna</td>\n",
       "      <td>47.674228</td>\n",
       "      <td>59</td>\n",
       "      <td>-122.301445</td>\n",
       "      <td>59</td>\n",
       "      <td>9.250000</td>\n",
       "      <td>48</td>\n",
       "    </tr>\n",
       "    <tr>\n",
       "      <th>16</th>\n",
       "      <td>Eastlake</td>\n",
       "      <td>47.640933</td>\n",
       "      <td>41</td>\n",
       "      <td>-122.325259</td>\n",
       "      <td>41</td>\n",
       "      <td>9.257143</td>\n",
       "      <td>35</td>\n",
       "    </tr>\n",
       "    <tr>\n",
       "      <th>10</th>\n",
       "      <td>Capitol Hill</td>\n",
       "      <td>47.621535</td>\n",
       "      <td>351</td>\n",
       "      <td>-122.320792</td>\n",
       "      <td>351</td>\n",
       "      <td>9.398601</td>\n",
       "      <td>286</td>\n",
       "    </tr>\n",
       "    <tr>\n",
       "      <th>76</th>\n",
       "      <td>Wallingford</td>\n",
       "      <td>47.659809</td>\n",
       "      <td>143</td>\n",
       "      <td>-122.333501</td>\n",
       "      <td>143</td>\n",
       "      <td>9.440000</td>\n",
       "      <td>125</td>\n",
       "    </tr>\n",
       "    <tr>\n",
       "      <th>49</th>\n",
       "      <td>North Beacon Hill</td>\n",
       "      <td>47.573244</td>\n",
       "      <td>95</td>\n",
       "      <td>-122.308032</td>\n",
       "      <td>95</td>\n",
       "      <td>9.464286</td>\n",
       "      <td>84</td>\n",
       "    </tr>\n",
       "    <tr>\n",
       "      <th>71</th>\n",
       "      <td>Stevens</td>\n",
       "      <td>47.624053</td>\n",
       "      <td>98</td>\n",
       "      <td>-122.306159</td>\n",
       "      <td>98</td>\n",
       "      <td>9.480000</td>\n",
       "      <td>75</td>\n",
       "    </tr>\n",
       "    <tr>\n",
       "      <th>25</th>\n",
       "      <td>Greenwood</td>\n",
       "      <td>47.693461</td>\n",
       "      <td>79</td>\n",
       "      <td>-122.355271</td>\n",
       "      <td>79</td>\n",
       "      <td>9.508475</td>\n",
       "      <td>59</td>\n",
       "    </tr>\n",
       "    <tr>\n",
       "      <th>40</th>\n",
       "      <td>Magnolia</td>\n",
       "      <td>47.648660</td>\n",
       "      <td>55</td>\n",
       "      <td>-122.395953</td>\n",
       "      <td>55</td>\n",
       "      <td>9.522727</td>\n",
       "      <td>44</td>\n",
       "    </tr>\n",
       "    <tr>\n",
       "      <th>37</th>\n",
       "      <td>Lower Queen Anne</td>\n",
       "      <td>47.624742</td>\n",
       "      <td>83</td>\n",
       "      <td>-122.355568</td>\n",
       "      <td>83</td>\n",
       "      <td>9.523810</td>\n",
       "      <td>63</td>\n",
       "    </tr>\n",
       "  </tbody>\n",
       "</table>\n",
       "</div>"
      ],
      "text/plain": [
       "          neighbourhood   latitude         longitude        \\\n",
       "                              mean count        mean count   \n",
       "73  University District  47.662569   107 -122.314040   107   \n",
       "61              Ravenna  47.674228    59 -122.301445    59   \n",
       "16             Eastlake  47.640933    41 -122.325259    41   \n",
       "10         Capitol Hill  47.621535   351 -122.320792   351   \n",
       "76          Wallingford  47.659809   143 -122.333501   143   \n",
       "49    North Beacon Hill  47.573244    95 -122.308032    95   \n",
       "71              Stevens  47.624053    98 -122.306159    98   \n",
       "25            Greenwood  47.693461    79 -122.355271    79   \n",
       "40             Magnolia  47.648660    55 -122.395953    55   \n",
       "37     Lower Queen Anne  47.624742    83 -122.355568    83   \n",
       "\n",
       "   review_scores_cleanliness        \n",
       "                        mean count  \n",
       "73                  9.000000    83  \n",
       "61                  9.250000    48  \n",
       "16                  9.257143    35  \n",
       "10                  9.398601   286  \n",
       "76                  9.440000   125  \n",
       "49                  9.464286    84  \n",
       "71                  9.480000    75  \n",
       "25                  9.508475    59  \n",
       "40                  9.522727    44  \n",
       "37                  9.523810    63  "
      ]
     },
     "execution_count": 25,
     "metadata": {},
     "output_type": "execute_result"
    }
   ],
   "source": [
    "hood_ratings_high_count.sort_values([('review_scores_cleanliness','mean')],ascending=True).head(10)"
   ]
  },
  {
   "cell_type": "markdown",
   "metadata": {},
   "source": [
    "Now make a map that shows the highest and lowest cleanliness ratings for this subsetted data:"
   ]
  },
  {
   "cell_type": "code",
   "execution_count": 26,
   "metadata": {},
   "outputs": [
    {
     "data": {
      "image/png": "[encoded data removed]",
      "text/plain": [
       "<Figure size 576x576 with 2 Axes>"
      ]
     },
     "metadata": {},
     "output_type": "display_data"
    }
   ],
   "source": [
    "fig = plt.figure(figsize=(8, 8))\n",
    "m = Basemap(projection='lcc', lat_0=47.629, lon_0=-122.333,\n",
    "            width=20000, height=20000, resolution='h');\n",
    "m.fillcontinents(color=\"lightgreen\", lake_color='#DDEEFF',alpha=0.5);\n",
    "m.drawmapboundary(fill_color=\"#DDEEFF\");\n",
    "m.drawcoastlines();\n",
    "\n",
    "# Extract the data we're interested in\n",
    "lats = hood_ratings_high_count[('latitude','mean')].values\n",
    "lons = hood_ratings_high_count[('longitude','mean')].values\n",
    "hoods = hood_ratings_high_count['neighbourhood'].values\n",
    "mean_clean_ratings = hood_ratings_high_count[('review_scores_cleanliness','mean')].values\n",
    "count = hood_ratings_high_count[('review_scores_cleanliness','count')].values\n",
    "\n",
    "# scatter airbnb data, with color reflecting rating [and size reflecting # of points]\n",
    "m.scatter(lons, lats, latlon=True,\n",
    "          c=mean_clean_ratings, s=count,\n",
    "          cmap='coolwarm', alpha=1)\n",
    "\n",
    "cleanest = hood_ratings_high_count.sort_values([('review_scores_cleanliness','mean')],ascending=False).reset_index().head(10)\n",
    "dirtiest = hood_ratings_high_count.sort_values([('review_scores_cleanliness','mean')],ascending=False).reset_index().tail(10)\n",
    "\n",
    "# add labels for the 10 cleanest and dirtiest neighborhoods (only using neighborhoods with > 50 data points)\n",
    "k = 1\n",
    "for i, row in cleanest.iterrows():\n",
    "    x = row[('longitude','mean')]\n",
    "    y = row[('latitude','mean')]\n",
    "    hood = row['neighbourhood'][0]\n",
    "    plt.text(m(x,y)[0]+100,m(x,y)[1],str(k)+': '+hood,fontsize=8,color='r')\n",
    "    k+=1\n",
    "\n",
    "k=1\n",
    "for i, row in dirtiest.iterrows():\n",
    "    x = row[('longitude','mean')]\n",
    "    y = row[('latitude','mean')]\n",
    "    hood = row['neighbourhood'][0]\n",
    "    plt.text(m(x,y)[0]+100,m(x,y)[1],str(11-k)+': '+hood,fontsize=8,color='b') \n",
    "    k+=1\n",
    "         \n",
    "# create colorbar and legend\n",
    "plt.colorbar(label='mean neighborhood cleanliness rating')\n",
    "\n",
    "# make legend with dummy points\n",
    "for a in [25, 100, 250]:\n",
    "    plt.scatter([], [], c='k', alpha=0.5, s=a, label=str(a))\n",
    "plt.legend(scatterpoints=1, frameon=False,labelspacing=1, loc='upper left');\n",
    "plt.gca().set_title(\"Seattle Cleanliness Ratings by Neighborhood\");"
   ]
  },
  {
   "cell_type": "markdown",
   "metadata": {},
   "source": [
    "### 2b. Communal Living\n",
    "\n",
    "It does look like the Fremont and Ballard are being gentrified, if you use cleanliness as a proxy for non-hippiness ... we can also use another metric [stereotype] to approximate hippiness -- communal living. Let's look at the relationship between neighborhood and the house type - full house v. private room v. shared room (if enough data points) ... "
   ]
  },
  {
   "cell_type": "code",
   "execution_count": 27,
   "metadata": {},
   "outputs": [
    {
     "data": {
      "text/plain": [
       "Entire home/apt    2541\n",
       "Private room       1160\n",
       "Shared room         117\n",
       "Name: room_type, dtype: int64"
      ]
     },
     "execution_count": 27,
     "metadata": {},
     "output_type": "execute_result"
    }
   ],
   "source": [
    "listings_df['room_type'].value_counts()"
   ]
  },
  {
   "cell_type": "code",
   "execution_count": 28,
   "metadata": {},
   "outputs": [
    {
     "data": {
      "text/plain": [
       "Entire home/apt    0.665532\n",
       "Private room       0.303824\n",
       "Shared room        0.030644\n",
       "Name: room_type, dtype: float64"
      ]
     },
     "execution_count": 28,
     "metadata": {},
     "output_type": "execute_result"
    }
   ],
   "source": [
    "listings_df['room_type'].value_counts(normalize=True)"
   ]
  },
  {
   "cell_type": "markdown",
   "metadata": {},
   "source": [
    "Only 3% of the listings are shared rooms, but we can still see if there are any trends here:"
   ]
  },
  {
   "cell_type": "markdown",
   "metadata": {},
   "source": [
    "The `pandas.crosstab` method is a handy way to look at the frequency of different categories grouped by another. Let's look at our how room types are represented in each neighborhood: "
   ]
  },
  {
   "cell_type": "code",
   "execution_count": 29,
   "metadata": {},
   "outputs": [
    {
     "data": {
      "text/html": [
       "<div>\n",
       "<style scoped>\n",
       "    .dataframe tbody tr th:only-of-type {\n",
       "        vertical-align: middle;\n",
       "    }\n",
       "\n",
       "    .dataframe tbody tr th {\n",
       "        vertical-align: top;\n",
       "    }\n",
       "\n",
       "    .dataframe thead th {\n",
       "        text-align: right;\n",
       "    }\n",
       "</style>\n",
       "<table border=\"1\" class=\"dataframe\">\n",
       "  <thead>\n",
       "    <tr style=\"text-align: right;\">\n",
       "      <th>room_type</th>\n",
       "      <th>Entire home/apt</th>\n",
       "      <th>Private room</th>\n",
       "      <th>Shared room</th>\n",
       "    </tr>\n",
       "    <tr>\n",
       "      <th>neighbourhood</th>\n",
       "      <th></th>\n",
       "      <th></th>\n",
       "      <th></th>\n",
       "    </tr>\n",
       "  </thead>\n",
       "  <tbody>\n",
       "    <tr>\n",
       "      <th>Alki</th>\n",
       "      <td>19</td>\n",
       "      <td>4</td>\n",
       "      <td>0</td>\n",
       "    </tr>\n",
       "    <tr>\n",
       "      <th>Arbor Heights</th>\n",
       "      <td>2</td>\n",
       "      <td>1</td>\n",
       "      <td>0</td>\n",
       "    </tr>\n",
       "    <tr>\n",
       "      <th>Atlantic</th>\n",
       "      <td>34</td>\n",
       "      <td>16</td>\n",
       "      <td>0</td>\n",
       "    </tr>\n",
       "    <tr>\n",
       "      <th>Ballard</th>\n",
       "      <td>138</td>\n",
       "      <td>75</td>\n",
       "      <td>0</td>\n",
       "    </tr>\n",
       "    <tr>\n",
       "      <th>Belltown</th>\n",
       "      <td>192</td>\n",
       "      <td>9</td>\n",
       "      <td>3</td>\n",
       "    </tr>\n",
       "  </tbody>\n",
       "</table>\n",
       "</div>"
      ],
      "text/plain": [
       "room_type      Entire home/apt  Private room  Shared room\n",
       "neighbourhood                                            \n",
       "Alki                        19             4            0\n",
       "Arbor Heights                2             1            0\n",
       "Atlantic                    34            16            0\n",
       "Ballard                    138            75            0\n",
       "Belltown                   192             9            3"
      ]
     },
     "execution_count": 29,
     "metadata": {},
     "output_type": "execute_result"
    }
   ],
   "source": [
    "pd.crosstab(listings_df['neighbourhood'],listings_df['room_type']).head()"
   ]
  },
  {
   "cell_type": "markdown",
   "metadata": {},
   "source": [
    "We can use a `lambda` function to turn these into fractions:"
   ]
  },
  {
   "cell_type": "code",
   "execution_count": 30,
   "metadata": {},
   "outputs": [
    {
     "data": {
      "text/html": [
       "<div>\n",
       "<style scoped>\n",
       "    .dataframe tbody tr th:only-of-type {\n",
       "        vertical-align: middle;\n",
       "    }\n",
       "\n",
       "    .dataframe tbody tr th {\n",
       "        vertical-align: top;\n",
       "    }\n",
       "\n",
       "    .dataframe thead th {\n",
       "        text-align: right;\n",
       "    }\n",
       "</style>\n",
       "<table border=\"1\" class=\"dataframe\">\n",
       "  <thead>\n",
       "    <tr style=\"text-align: right;\">\n",
       "      <th>room_type</th>\n",
       "      <th>Entire home/apt</th>\n",
       "      <th>Private room</th>\n",
       "      <th>Shared room</th>\n",
       "    </tr>\n",
       "    <tr>\n",
       "      <th>neighbourhood</th>\n",
       "      <th></th>\n",
       "      <th></th>\n",
       "      <th></th>\n",
       "    </tr>\n",
       "  </thead>\n",
       "  <tbody>\n",
       "    <tr>\n",
       "      <th>Alki</th>\n",
       "      <td>0.826087</td>\n",
       "      <td>0.173913</td>\n",
       "      <td>0.0</td>\n",
       "    </tr>\n",
       "    <tr>\n",
       "      <th>Arbor Heights</th>\n",
       "      <td>0.666667</td>\n",
       "      <td>0.333333</td>\n",
       "      <td>0.0</td>\n",
       "    </tr>\n",
       "    <tr>\n",
       "      <th>Atlantic</th>\n",
       "      <td>0.680000</td>\n",
       "      <td>0.320000</td>\n",
       "      <td>0.0</td>\n",
       "    </tr>\n",
       "  </tbody>\n",
       "</table>\n",
       "</div>"
      ],
      "text/plain": [
       "room_type      Entire home/apt  Private room  Shared room\n",
       "neighbourhood                                            \n",
       "Alki                  0.826087      0.173913          0.0\n",
       "Arbor Heights         0.666667      0.333333          0.0\n",
       "Atlantic              0.680000      0.320000          0.0"
      ]
     },
     "execution_count": 30,
     "metadata": {},
     "output_type": "execute_result"
    }
   ],
   "source": [
    "hood_roomtypes = pd.crosstab(listings_df['neighbourhood'],listings_df['room_type']).apply(lambda r: r/r.sum(), axis=1)\n",
    "hood_roomtypes.head(3)"
   ]
  },
  {
   "cell_type": "markdown",
   "metadata": {},
   "source": [
    "`seaborn.heatmap` is a quick way to look at the breakdown by neighbourhood:"
   ]
  },
  {
   "cell_type": "code",
   "execution_count": 31,
   "metadata": {},
   "outputs": [
    {
     "data": {
      "text/plain": [
       "Text(195.0, 0.5, 'room type')"
      ]
     },
     "execution_count": 31,
     "metadata": {},
     "output_type": "execute_result"
    },
    {
     "data": {
      "image/png": "[encoded data removed]",
      "text/plain": [
       "<Figure size 1728x144 with 2 Axes>"
      ]
     },
     "metadata": {},
     "output_type": "display_data"
    }
   ],
   "source": [
    "fig, ax = plt.subplots(figsize=(24,2))  \n",
    "sns.heatmap(hood_roomtypes.transpose(), cmap=\"Reds\",ax=ax);\n",
    "ax.set_ylabel('room type')"
   ]
  },
  {
   "cell_type": "markdown",
   "metadata": {},
   "source": [
    "Let's look at the top neighbourhoods for each room type proportion:"
   ]
  },
  {
   "cell_type": "code",
   "execution_count": 32,
   "metadata": {},
   "outputs": [
    {
     "data": {
      "text/html": [
       "<div>\n",
       "<style scoped>\n",
       "    .dataframe tbody tr th:only-of-type {\n",
       "        vertical-align: middle;\n",
       "    }\n",
       "\n",
       "    .dataframe tbody tr th {\n",
       "        vertical-align: top;\n",
       "    }\n",
       "\n",
       "    .dataframe thead th {\n",
       "        text-align: right;\n",
       "    }\n",
       "</style>\n",
       "<table border=\"1\" class=\"dataframe\">\n",
       "  <thead>\n",
       "    <tr style=\"text-align: right;\">\n",
       "      <th>room_type</th>\n",
       "      <th>Entire home/apt</th>\n",
       "      <th>Private room</th>\n",
       "      <th>Shared room</th>\n",
       "    </tr>\n",
       "    <tr>\n",
       "      <th>neighbourhood</th>\n",
       "      <th></th>\n",
       "      <th></th>\n",
       "      <th></th>\n",
       "    </tr>\n",
       "  </thead>\n",
       "  <tbody>\n",
       "    <tr>\n",
       "      <th>Pinehurst</th>\n",
       "      <td>1.000000</td>\n",
       "      <td>0.000000</td>\n",
       "      <td>0.000000</td>\n",
       "    </tr>\n",
       "    <tr>\n",
       "      <th>Fairmount Park</th>\n",
       "      <td>1.000000</td>\n",
       "      <td>0.000000</td>\n",
       "      <td>0.000000</td>\n",
       "    </tr>\n",
       "    <tr>\n",
       "      <th>South Park</th>\n",
       "      <td>1.000000</td>\n",
       "      <td>0.000000</td>\n",
       "      <td>0.000000</td>\n",
       "    </tr>\n",
       "    <tr>\n",
       "      <th>North College Park</th>\n",
       "      <td>1.000000</td>\n",
       "      <td>0.000000</td>\n",
       "      <td>0.000000</td>\n",
       "    </tr>\n",
       "    <tr>\n",
       "      <th>South Beacon Hill</th>\n",
       "      <td>1.000000</td>\n",
       "      <td>0.000000</td>\n",
       "      <td>0.000000</td>\n",
       "    </tr>\n",
       "    <tr>\n",
       "      <th>Pike Market</th>\n",
       "      <td>1.000000</td>\n",
       "      <td>0.000000</td>\n",
       "      <td>0.000000</td>\n",
       "    </tr>\n",
       "    <tr>\n",
       "      <th>Belltown</th>\n",
       "      <td>0.941176</td>\n",
       "      <td>0.044118</td>\n",
       "      <td>0.014706</td>\n",
       "    </tr>\n",
       "    <tr>\n",
       "      <th>Central Business District</th>\n",
       "      <td>0.925926</td>\n",
       "      <td>0.049383</td>\n",
       "      <td>0.024691</td>\n",
       "    </tr>\n",
       "    <tr>\n",
       "      <th>Pike Place Market</th>\n",
       "      <td>0.897436</td>\n",
       "      <td>0.051282</td>\n",
       "      <td>0.051282</td>\n",
       "    </tr>\n",
       "    <tr>\n",
       "      <th>Portage Bay</th>\n",
       "      <td>0.857143</td>\n",
       "      <td>0.142857</td>\n",
       "      <td>0.000000</td>\n",
       "    </tr>\n",
       "  </tbody>\n",
       "</table>\n",
       "</div>"
      ],
      "text/plain": [
       "room_type                  Entire home/apt  Private room  Shared room\n",
       "neighbourhood                                                        \n",
       "Pinehurst                         1.000000      0.000000     0.000000\n",
       "Fairmount Park                    1.000000      0.000000     0.000000\n",
       "South Park                        1.000000      0.000000     0.000000\n",
       "North College Park                1.000000      0.000000     0.000000\n",
       "South Beacon Hill                 1.000000      0.000000     0.000000\n",
       "Pike Market                       1.000000      0.000000     0.000000\n",
       "Belltown                          0.941176      0.044118     0.014706\n",
       "Central Business District         0.925926      0.049383     0.024691\n",
       "Pike Place Market                 0.897436      0.051282     0.051282\n",
       "Portage Bay                       0.857143      0.142857     0.000000"
      ]
     },
     "execution_count": 32,
     "metadata": {},
     "output_type": "execute_result"
    }
   ],
   "source": [
    "hood_roomtypes.sort_values([('Entire home/apt')],ascending=False).head(10)"
   ]
  },
  {
   "cell_type": "code",
   "execution_count": 33,
   "metadata": {},
   "outputs": [
    {
     "data": {
      "text/html": [
       "<div>\n",
       "<style scoped>\n",
       "    .dataframe tbody tr th:only-of-type {\n",
       "        vertical-align: middle;\n",
       "    }\n",
       "\n",
       "    .dataframe tbody tr th {\n",
       "        vertical-align: top;\n",
       "    }\n",
       "\n",
       "    .dataframe thead th {\n",
       "        text-align: right;\n",
       "    }\n",
       "</style>\n",
       "<table border=\"1\" class=\"dataframe\">\n",
       "  <thead>\n",
       "    <tr style=\"text-align: right;\">\n",
       "      <th>room_type</th>\n",
       "      <th>Entire home/apt</th>\n",
       "      <th>Private room</th>\n",
       "      <th>Shared room</th>\n",
       "    </tr>\n",
       "    <tr>\n",
       "      <th>neighbourhood</th>\n",
       "      <th></th>\n",
       "      <th></th>\n",
       "      <th></th>\n",
       "    </tr>\n",
       "  </thead>\n",
       "  <tbody>\n",
       "    <tr>\n",
       "      <th>Roxhill</th>\n",
       "      <td>0.000000</td>\n",
       "      <td>1.000000</td>\n",
       "      <td>0.0</td>\n",
       "    </tr>\n",
       "    <tr>\n",
       "      <th>High Point</th>\n",
       "      <td>0.090909</td>\n",
       "      <td>0.909091</td>\n",
       "      <td>0.0</td>\n",
       "    </tr>\n",
       "    <tr>\n",
       "      <th>Georgetown</th>\n",
       "      <td>0.142857</td>\n",
       "      <td>0.857143</td>\n",
       "      <td>0.0</td>\n",
       "    </tr>\n",
       "    <tr>\n",
       "      <th>Rainier Beach</th>\n",
       "      <td>0.166667</td>\n",
       "      <td>0.833333</td>\n",
       "      <td>0.0</td>\n",
       "    </tr>\n",
       "    <tr>\n",
       "      <th>Holly Park</th>\n",
       "      <td>0.166667</td>\n",
       "      <td>0.833333</td>\n",
       "      <td>0.0</td>\n",
       "    </tr>\n",
       "  </tbody>\n",
       "</table>\n",
       "</div>"
      ],
      "text/plain": [
       "room_type      Entire home/apt  Private room  Shared room\n",
       "neighbourhood                                            \n",
       "Roxhill               0.000000      1.000000          0.0\n",
       "High Point            0.090909      0.909091          0.0\n",
       "Georgetown            0.142857      0.857143          0.0\n",
       "Rainier Beach         0.166667      0.833333          0.0\n",
       "Holly Park            0.166667      0.833333          0.0"
      ]
     },
     "execution_count": 33,
     "metadata": {},
     "output_type": "execute_result"
    }
   ],
   "source": [
    "hood_roomtypes.sort_values([('Private room')],ascending=False).head()"
   ]
  },
  {
   "cell_type": "code",
   "execution_count": 34,
   "metadata": {},
   "outputs": [
    {
     "data": {
      "text/html": [
       "<div>\n",
       "<style scoped>\n",
       "    .dataframe tbody tr th:only-of-type {\n",
       "        vertical-align: middle;\n",
       "    }\n",
       "\n",
       "    .dataframe tbody tr th {\n",
       "        vertical-align: top;\n",
       "    }\n",
       "\n",
       "    .dataframe thead th {\n",
       "        text-align: right;\n",
       "    }\n",
       "</style>\n",
       "<table border=\"1\" class=\"dataframe\">\n",
       "  <thead>\n",
       "    <tr style=\"text-align: right;\">\n",
       "      <th>room_type</th>\n",
       "      <th>Entire home/apt</th>\n",
       "      <th>Private room</th>\n",
       "      <th>Shared room</th>\n",
       "    </tr>\n",
       "    <tr>\n",
       "      <th>neighbourhood</th>\n",
       "      <th></th>\n",
       "      <th></th>\n",
       "      <th></th>\n",
       "    </tr>\n",
       "  </thead>\n",
       "  <tbody>\n",
       "    <tr>\n",
       "      <th>Brighton</th>\n",
       "      <td>0.600000</td>\n",
       "      <td>0.200000</td>\n",
       "      <td>0.200000</td>\n",
       "    </tr>\n",
       "    <tr>\n",
       "      <th>Dunlap</th>\n",
       "      <td>0.307692</td>\n",
       "      <td>0.538462</td>\n",
       "      <td>0.153846</td>\n",
       "    </tr>\n",
       "    <tr>\n",
       "      <th>Stevens</th>\n",
       "      <td>0.510204</td>\n",
       "      <td>0.346939</td>\n",
       "      <td>0.142857</td>\n",
       "    </tr>\n",
       "    <tr>\n",
       "      <th>Pioneer Square</th>\n",
       "      <td>0.714286</td>\n",
       "      <td>0.142857</td>\n",
       "      <td>0.142857</td>\n",
       "    </tr>\n",
       "    <tr>\n",
       "      <th>International District</th>\n",
       "      <td>0.529412</td>\n",
       "      <td>0.352941</td>\n",
       "      <td>0.117647</td>\n",
       "    </tr>\n",
       "  </tbody>\n",
       "</table>\n",
       "</div>"
      ],
      "text/plain": [
       "room_type               Entire home/apt  Private room  Shared room\n",
       "neighbourhood                                                     \n",
       "Brighton                       0.600000      0.200000     0.200000\n",
       "Dunlap                         0.307692      0.538462     0.153846\n",
       "Stevens                        0.510204      0.346939     0.142857\n",
       "Pioneer Square                 0.714286      0.142857     0.142857\n",
       "International District         0.529412      0.352941     0.117647"
      ]
     },
     "execution_count": 34,
     "metadata": {},
     "output_type": "execute_result"
    }
   ],
   "source": [
    "hood_roomtypes.sort_values([('Shared room')],ascending=False).head()"
   ]
  },
  {
   "cell_type": "markdown",
   "metadata": {},
   "source": [
    "To plot this data in map-view we need to add in the lat/lon information, which is done in the next few steps:"
   ]
  },
  {
   "cell_type": "code",
   "execution_count": 35,
   "metadata": {},
   "outputs": [
    {
     "data": {
      "text/html": [
       "<div>\n",
       "<style scoped>\n",
       "    .dataframe tbody tr th:only-of-type {\n",
       "        vertical-align: middle;\n",
       "    }\n",
       "\n",
       "    .dataframe tbody tr th {\n",
       "        vertical-align: top;\n",
       "    }\n",
       "\n",
       "    .dataframe thead th {\n",
       "        text-align: right;\n",
       "    }\n",
       "</style>\n",
       "<table border=\"1\" class=\"dataframe\">\n",
       "  <thead>\n",
       "    <tr style=\"text-align: right;\">\n",
       "      <th></th>\n",
       "      <th>latitude</th>\n",
       "      <th>longitude</th>\n",
       "    </tr>\n",
       "    <tr>\n",
       "      <th>neighbourhood</th>\n",
       "      <th></th>\n",
       "      <th></th>\n",
       "    </tr>\n",
       "  </thead>\n",
       "  <tbody>\n",
       "    <tr>\n",
       "      <th>Alki</th>\n",
       "      <td>47.571967</td>\n",
       "      <td>-122.408159</td>\n",
       "    </tr>\n",
       "    <tr>\n",
       "      <th>Arbor Heights</th>\n",
       "      <td>47.510145</td>\n",
       "      <td>-122.381473</td>\n",
       "    </tr>\n",
       "    <tr>\n",
       "      <th>Atlantic</th>\n",
       "      <td>47.594896</td>\n",
       "      <td>-122.304818</td>\n",
       "    </tr>\n",
       "  </tbody>\n",
       "</table>\n",
       "</div>"
      ],
      "text/plain": [
       "                latitude   longitude\n",
       "neighbourhood                       \n",
       "Alki           47.571967 -122.408159\n",
       "Arbor Heights  47.510145 -122.381473\n",
       "Atlantic       47.594896 -122.304818"
      ]
     },
     "execution_count": 35,
     "metadata": {},
     "output_type": "execute_result"
    }
   ],
   "source": [
    "#create dataframe containing of the mean lat/lon of each neighbourhood\n",
    "hood_latlon = listings_df[['neighbourhood','latitude','longitude']].groupby('neighbourhood').mean()\n",
    "hood_latlon.head(3)"
   ]
  },
  {
   "cell_type": "code",
   "execution_count": 36,
   "metadata": {},
   "outputs": [
    {
     "data": {
      "text/html": [
       "<div>\n",
       "<style scoped>\n",
       "    .dataframe tbody tr th:only-of-type {\n",
       "        vertical-align: middle;\n",
       "    }\n",
       "\n",
       "    .dataframe tbody tr th {\n",
       "        vertical-align: top;\n",
       "    }\n",
       "\n",
       "    .dataframe thead th {\n",
       "        text-align: right;\n",
       "    }\n",
       "</style>\n",
       "<table border=\"1\" class=\"dataframe\">\n",
       "  <thead>\n",
       "    <tr style=\"text-align: right;\">\n",
       "      <th></th>\n",
       "      <th>Entire home/apt</th>\n",
       "      <th>Private room</th>\n",
       "      <th>Shared room</th>\n",
       "      <th>latitude</th>\n",
       "      <th>longitude</th>\n",
       "    </tr>\n",
       "    <tr>\n",
       "      <th>neighbourhood</th>\n",
       "      <th></th>\n",
       "      <th></th>\n",
       "      <th></th>\n",
       "      <th></th>\n",
       "      <th></th>\n",
       "    </tr>\n",
       "  </thead>\n",
       "  <tbody>\n",
       "    <tr>\n",
       "      <th>Alki</th>\n",
       "      <td>0.826087</td>\n",
       "      <td>0.173913</td>\n",
       "      <td>0.0</td>\n",
       "      <td>47.571967</td>\n",
       "      <td>-122.408159</td>\n",
       "    </tr>\n",
       "    <tr>\n",
       "      <th>Arbor Heights</th>\n",
       "      <td>0.666667</td>\n",
       "      <td>0.333333</td>\n",
       "      <td>0.0</td>\n",
       "      <td>47.510145</td>\n",
       "      <td>-122.381473</td>\n",
       "    </tr>\n",
       "    <tr>\n",
       "      <th>Atlantic</th>\n",
       "      <td>0.680000</td>\n",
       "      <td>0.320000</td>\n",
       "      <td>0.0</td>\n",
       "      <td>47.594896</td>\n",
       "      <td>-122.304818</td>\n",
       "    </tr>\n",
       "  </tbody>\n",
       "</table>\n",
       "</div>"
      ],
      "text/plain": [
       "               Entire home/apt  Private room  Shared room   latitude  \\\n",
       "neighbourhood                                                          \n",
       "Alki                  0.826087      0.173913          0.0  47.571967   \n",
       "Arbor Heights         0.666667      0.333333          0.0  47.510145   \n",
       "Atlantic              0.680000      0.320000          0.0  47.594896   \n",
       "\n",
       "                longitude  \n",
       "neighbourhood              \n",
       "Alki          -122.408159  \n",
       "Arbor Heights -122.381473  \n",
       "Atlantic      -122.304818  "
      ]
     },
     "execution_count": 36,
     "metadata": {},
     "output_type": "execute_result"
    }
   ],
   "source": [
    "#merge this with the neighbourhood roomtypes dataframe\n",
    "hood_roomtypes_latlon = hood_roomtypes.merge(hood_latlon,left_index=True,right_on='neighbourhood')\n",
    "hood_roomtypes_latlon.head(3)"
   ]
  },
  {
   "cell_type": "markdown",
   "metadata": {},
   "source": [
    "Lastly, we want to include the count (# of data points used for each neighbourhood), for reference"
   ]
  },
  {
   "cell_type": "code",
   "execution_count": 37,
   "metadata": {},
   "outputs": [
    {
     "data": {
      "text/html": [
       "<div>\n",
       "<style scoped>\n",
       "    .dataframe tbody tr th:only-of-type {\n",
       "        vertical-align: middle;\n",
       "    }\n",
       "\n",
       "    .dataframe tbody tr th {\n",
       "        vertical-align: top;\n",
       "    }\n",
       "\n",
       "    .dataframe thead th {\n",
       "        text-align: right;\n",
       "    }\n",
       "</style>\n",
       "<table border=\"1\" class=\"dataframe\">\n",
       "  <thead>\n",
       "    <tr style=\"text-align: right;\">\n",
       "      <th></th>\n",
       "      <th>Entire home/apt</th>\n",
       "      <th>Private room</th>\n",
       "      <th>Shared room</th>\n",
       "      <th>latitude</th>\n",
       "      <th>longitude</th>\n",
       "      <th>count</th>\n",
       "    </tr>\n",
       "    <tr>\n",
       "      <th>neighbourhood</th>\n",
       "      <th></th>\n",
       "      <th></th>\n",
       "      <th></th>\n",
       "      <th></th>\n",
       "      <th></th>\n",
       "      <th></th>\n",
       "    </tr>\n",
       "  </thead>\n",
       "  <tbody>\n",
       "    <tr>\n",
       "      <th>Alki</th>\n",
       "      <td>0.826087</td>\n",
       "      <td>0.173913</td>\n",
       "      <td>0.0</td>\n",
       "      <td>47.571967</td>\n",
       "      <td>-122.408159</td>\n",
       "      <td>23</td>\n",
       "    </tr>\n",
       "    <tr>\n",
       "      <th>Arbor Heights</th>\n",
       "      <td>0.666667</td>\n",
       "      <td>0.333333</td>\n",
       "      <td>0.0</td>\n",
       "      <td>47.510145</td>\n",
       "      <td>-122.381473</td>\n",
       "      <td>3</td>\n",
       "    </tr>\n",
       "    <tr>\n",
       "      <th>Atlantic</th>\n",
       "      <td>0.680000</td>\n",
       "      <td>0.320000</td>\n",
       "      <td>0.0</td>\n",
       "      <td>47.594896</td>\n",
       "      <td>-122.304818</td>\n",
       "      <td>50</td>\n",
       "    </tr>\n",
       "  </tbody>\n",
       "</table>\n",
       "</div>"
      ],
      "text/plain": [
       "               Entire home/apt  Private room  Shared room   latitude  \\\n",
       "neighbourhood                                                          \n",
       "Alki                  0.826087      0.173913          0.0  47.571967   \n",
       "Arbor Heights         0.666667      0.333333          0.0  47.510145   \n",
       "Atlantic              0.680000      0.320000          0.0  47.594896   \n",
       "\n",
       "                longitude  count  \n",
       "neighbourhood                     \n",
       "Alki          -122.408159     23  \n",
       "Arbor Heights -122.381473      3  \n",
       "Atlantic      -122.304818     50  "
      ]
     },
     "execution_count": 37,
     "metadata": {},
     "output_type": "execute_result"
    }
   ],
   "source": [
    "hood_roomtypes_latlon['count'] = pd.crosstab(listings_df['neighbourhood'],listings_df['room_type']).apply(lambda r: r.sum(), axis=1)\n",
    "hood_roomtypes_latlon.head(3)"
   ]
  },
  {
   "cell_type": "code",
   "execution_count": 38,
   "metadata": {},
   "outputs": [
    {
     "data": {
      "image/png": "[encoded data removed]",
      "text/plain": [
       "<Figure size 1080x360 with 6 Axes>"
      ]
     },
     "metadata": {},
     "output_type": "display_data"
    }
   ],
   "source": [
    "fig, ax = plt.subplots(1, 3, figsize=(15, 5))\n",
    "\n",
    "for i, room_type in enumerate(['Entire home/apt', 'Private room', 'Shared room']):\n",
    "    m = Basemap(projection='lcc', lat_0=47.629, lon_0=-122.333,\n",
    "                width=20000, height=30000, resolution='h',ax=ax[i]);\n",
    "    m.fillcontinents(color=\"lightgreen\", lake_color='#DDEEFF',alpha=0.3);\n",
    "    m.drawmapboundary(fill_color=\"#DDEEFF\");\n",
    "    m.drawcoastlines();\n",
    "\n",
    "    # Extract the data we're interested in\n",
    "    lats = hood_roomtypes_latlon['latitude'].values\n",
    "    lons = hood_roomtypes_latlon['longitude'].values\n",
    "    mean_ratings = hood_roomtypes_latlon[room_type].values\n",
    "    count = hood_roomtypes_latlon['count'].values\n",
    "\n",
    "    # scatter airbnb data, with color reflecting rating [and size reflecting # of points]\n",
    "    scatter = m.scatter(lons, lats, latlon=True, c=mean_ratings, s=count/2, cmap='seismic', alpha=0.8)\n",
    "    \n",
    "    # create colorbar\n",
    "    plt.colorbar(scatter,ax=ax[i],label='% '+ room_type) \n",
    "    ax[i].set_title('% ' + room_type);\n",
    "    \n",
    "    # make legend with dummy points\n",
    "for a in [5, 100, 250]:\n",
    "    plt.scatter([], [], c='k', alpha=0.5, s=a/2, label=str(a))\n",
    "plt.legend(scatterpoints=1, frameon=False, labelspacing=1, loc='upper left');"
   ]
  },
  {
   "cell_type": "markdown",
   "metadata": {},
   "source": [
    "## Discussion\n",
    "\n",
    "It appears that there are some neighbourhoods that foster more communal AirBnB listings, but it doesn't seem to be in the traditionally \"hippy\" neighbourhoods as suggested by the Yelp post https://www.yelp.com/topic/seattle-where-my-hippies-at. Take a look at my Medium post (https://medium.com/p/aee4b0876dc7/edit) for further discussion. "
   ]
  },
  {
   "cell_type": "markdown",
   "metadata": {},
   "source": [
    "### Cleanliness is next to Godliness, ergo ... \n",
    "\n",
    "This notebook contains the exploratory analysis for creating a linear regression model to predict `cleanliness_review_score` from other predictor variables contained within the `listings.csv` file from the kaggle Seattle AirBnB dataset. The two main questions I attempt to answer are:\n",
    "\n",
    "    1) What factors affect AirBnB cleanliness rating?\n",
    "    2) Can we make a viable model to predict cleanliness rating?\n",
    "\n",
    "Most of this notebook centers around preparing the data set, and getting a better sense of the information contained in the dataset. First, import required packages, and make sure that the `pandas` version is at least 0.25+ so we can use the handy `explode` method."
   ]
  },
  {
   "cell_type": "code",
   "execution_count": 1,
   "metadata": {},
   "outputs": [],
   "source": [
    "import numpy as np\n",
    "import pandas as pd\n",
    "import matplotlib.pyplot as plt\n",
    "import seaborn as sns\n",
    "from IPython.display import display\n",
    "from mpl_toolkits.basemap import Basemap\n",
    "\n",
    "from sklearn.linear_model import LinearRegression\n",
    "from sklearn.model_selection import train_test_split\n",
    "from sklearn.metrics import r2_score, mean_squared_error\n",
    "\n",
    "%matplotlib inline"
   ]
  },
  {
   "cell_type": "code",
   "execution_count": 2,
   "metadata": {},
   "outputs": [
    {
     "data": {
      "text/plain": [
       "'0.25.0'"
      ]
     },
     "execution_count": 2,
     "metadata": {},
     "output_type": "execute_result"
    }
   ],
   "source": [
    "pd.__version__"
   ]
  },
  {
   "cell_type": "markdown",
   "metadata": {},
   "source": [
    "Read in the `listings.csv` dataset and take a look at the dimensions (`shape`) and the columns"
   ]
  },
  {
   "cell_type": "code",
   "execution_count": 3,
   "metadata": {},
   "outputs": [],
   "source": [
    "listings_df = pd.read_csv('../data/listings.csv')"
   ]
  },
  {
   "cell_type": "code",
   "execution_count": 4,
   "metadata": {},
   "outputs": [
    {
     "data": {
      "text/plain": [
       "(3818, 92)"
      ]
     },
     "execution_count": 4,
     "metadata": {},
     "output_type": "execute_result"
    }
   ],
   "source": [
    "listings_df.shape"
   ]
  },
  {
   "cell_type": "code",
   "execution_count": 5,
   "metadata": {},
   "outputs": [
    {
     "data": {
      "text/plain": [
       "Index(['id', 'listing_url', 'scrape_id', 'last_scraped', 'name', 'summary',\n",
       "       'space', 'description', 'experiences_offered', 'neighborhood_overview',\n",
       "       'notes', 'transit', 'thumbnail_url', 'medium_url', 'picture_url',\n",
       "       'xl_picture_url', 'host_id', 'host_url', 'host_name', 'host_since',\n",
       "       'host_location', 'host_about', 'host_response_time',\n",
       "       'host_response_rate', 'host_acceptance_rate', 'host_is_superhost',\n",
       "       'host_thumbnail_url', 'host_picture_url', 'host_neighbourhood',\n",
       "       'host_listings_count', 'host_total_listings_count',\n",
       "       'host_verifications', 'host_has_profile_pic', 'host_identity_verified',\n",
       "       'street', 'neighbourhood', 'neighbourhood_cleansed',\n",
       "       'neighbourhood_group_cleansed', 'city', 'state', 'zipcode', 'market',\n",
       "       'smart_location', 'country_code', 'country', 'latitude', 'longitude',\n",
       "       'is_location_exact', 'property_type', 'room_type', 'accommodates',\n",
       "       'bathrooms', 'bedrooms', 'beds', 'bed_type', 'amenities', 'square_feet',\n",
       "       'price', 'weekly_price', 'monthly_price', 'security_deposit',\n",
       "       'cleaning_fee', 'guests_included', 'extra_people', 'minimum_nights',\n",
       "       'maximum_nights', 'calendar_updated', 'has_availability',\n",
       "       'availability_30', 'availability_60', 'availability_90',\n",
       "       'availability_365', 'calendar_last_scraped', 'number_of_reviews',\n",
       "       'first_review', 'last_review', 'review_scores_rating',\n",
       "       'review_scores_accuracy', 'review_scores_cleanliness',\n",
       "       'review_scores_checkin', 'review_scores_communication',\n",
       "       'review_scores_location', 'review_scores_value', 'requires_license',\n",
       "       'license', 'jurisdiction_names', 'instant_bookable',\n",
       "       'cancellation_policy', 'require_guest_profile_picture',\n",
       "       'require_guest_phone_verification', 'calculated_host_listings_count',\n",
       "       'reviews_per_month'],\n",
       "      dtype='object')"
      ]
     },
     "execution_count": 5,
     "metadata": {},
     "output_type": "execute_result"
    }
   ],
   "source": [
    "listings_df.columns"
   ]
  },
  {
   "cell_type": "markdown",
   "metadata": {},
   "source": [
    "First let's take a quick look at the correlation between variables, using `seaborn.heatmap`:"
   ]
  },
  {
   "cell_type": "code",
   "execution_count": 6,
   "metadata": {},
   "outputs": [
    {
     "data": {
      "image/png": "[encoded data removed]",
      "text/plain": [
       "<Figure size 432x288 with 2 Axes>"
      ]
     },
     "metadata": {},
     "output_type": "display_data"
    }
   ],
   "source": [
    "sns.heatmap(listings_df.corr());"
   ]
  },
  {
   "cell_type": "markdown",
   "metadata": {},
   "source": [
    "I'm going to take an initial guess which variables might be related to the cleanliness rating. I'll pare it down to just a small selection:"
   ]
  },
  {
   "cell_type": "code",
   "execution_count": 7,
   "metadata": {},
   "outputs": [],
   "source": [
    "cols_of_interest = ['neighbourhood_group_cleansed', 'latitude', 'longitude',\n",
    "                    'property_type', 'room_type', 'bed_type', 'amenities', \n",
    "                    'price', 'security_deposit', 'cleaning_fee', 'review_scores_cleanliness']"
   ]
  },
  {
   "cell_type": "code",
   "execution_count": 8,
   "metadata": {},
   "outputs": [
    {
     "data": {
      "text/html": [
       "<div>\n",
       "<style scoped>\n",
       "    .dataframe tbody tr th:only-of-type {\n",
       "        vertical-align: middle;\n",
       "    }\n",
       "\n",
       "    .dataframe tbody tr th {\n",
       "        vertical-align: top;\n",
       "    }\n",
       "\n",
       "    .dataframe thead th {\n",
       "        text-align: right;\n",
       "    }\n",
       "</style>\n",
       "<table border=\"1\" class=\"dataframe\">\n",
       "  <thead>\n",
       "    <tr style=\"text-align: right;\">\n",
       "      <th></th>\n",
       "      <th>neighbourhood_group_cleansed</th>\n",
       "      <th>latitude</th>\n",
       "      <th>longitude</th>\n",
       "      <th>property_type</th>\n",
       "      <th>room_type</th>\n",
       "      <th>bed_type</th>\n",
       "      <th>amenities</th>\n",
       "      <th>price</th>\n",
       "      <th>security_deposit</th>\n",
       "      <th>cleaning_fee</th>\n",
       "      <th>review_scores_cleanliness</th>\n",
       "    </tr>\n",
       "  </thead>\n",
       "  <tbody>\n",
       "    <tr>\n",
       "      <th>0</th>\n",
       "      <td>Queen Anne</td>\n",
       "      <td>47.636289</td>\n",
       "      <td>-122.371025</td>\n",
       "      <td>Apartment</td>\n",
       "      <td>Entire home/apt</td>\n",
       "      <td>Real Bed</td>\n",
       "      <td>{TV,\"Cable TV\",Internet,\"Wireless Internet\",\"A...</td>\n",
       "      <td>$85.00</td>\n",
       "      <td>NaN</td>\n",
       "      <td>NaN</td>\n",
       "      <td>10.0</td>\n",
       "    </tr>\n",
       "    <tr>\n",
       "      <th>1</th>\n",
       "      <td>Queen Anne</td>\n",
       "      <td>47.639123</td>\n",
       "      <td>-122.365666</td>\n",
       "      <td>Apartment</td>\n",
       "      <td>Entire home/apt</td>\n",
       "      <td>Real Bed</td>\n",
       "      <td>{TV,Internet,\"Wireless Internet\",Kitchen,\"Free...</td>\n",
       "      <td>$150.00</td>\n",
       "      <td>$100.00</td>\n",
       "      <td>$40.00</td>\n",
       "      <td>10.0</td>\n",
       "    </tr>\n",
       "    <tr>\n",
       "      <th>2</th>\n",
       "      <td>Queen Anne</td>\n",
       "      <td>47.629724</td>\n",
       "      <td>-122.369483</td>\n",
       "      <td>House</td>\n",
       "      <td>Entire home/apt</td>\n",
       "      <td>Real Bed</td>\n",
       "      <td>{TV,\"Cable TV\",Internet,\"Wireless Internet\",\"A...</td>\n",
       "      <td>$975.00</td>\n",
       "      <td>$1,000.00</td>\n",
       "      <td>$300.00</td>\n",
       "      <td>10.0</td>\n",
       "    </tr>\n",
       "    <tr>\n",
       "      <th>3</th>\n",
       "      <td>Queen Anne</td>\n",
       "      <td>47.638473</td>\n",
       "      <td>-122.369279</td>\n",
       "      <td>Apartment</td>\n",
       "      <td>Entire home/apt</td>\n",
       "      <td>Real Bed</td>\n",
       "      <td>{Internet,\"Wireless Internet\",Kitchen,\"Indoor ...</td>\n",
       "      <td>$100.00</td>\n",
       "      <td>NaN</td>\n",
       "      <td>NaN</td>\n",
       "      <td>NaN</td>\n",
       "    </tr>\n",
       "    <tr>\n",
       "      <th>4</th>\n",
       "      <td>Queen Anne</td>\n",
       "      <td>47.632918</td>\n",
       "      <td>-122.372471</td>\n",
       "      <td>House</td>\n",
       "      <td>Entire home/apt</td>\n",
       "      <td>Real Bed</td>\n",
       "      <td>{TV,\"Cable TV\",Internet,\"Wireless Internet\",Ki...</td>\n",
       "      <td>$450.00</td>\n",
       "      <td>$700.00</td>\n",
       "      <td>$125.00</td>\n",
       "      <td>9.0</td>\n",
       "    </tr>\n",
       "  </tbody>\n",
       "</table>\n",
       "</div>"
      ],
      "text/plain": [
       "  neighbourhood_group_cleansed   latitude   longitude property_type  \\\n",
       "0                   Queen Anne  47.636289 -122.371025     Apartment   \n",
       "1                   Queen Anne  47.639123 -122.365666     Apartment   \n",
       "2                   Queen Anne  47.629724 -122.369483         House   \n",
       "3                   Queen Anne  47.638473 -122.369279     Apartment   \n",
       "4                   Queen Anne  47.632918 -122.372471         House   \n",
       "\n",
       "         room_type  bed_type  \\\n",
       "0  Entire home/apt  Real Bed   \n",
       "1  Entire home/apt  Real Bed   \n",
       "2  Entire home/apt  Real Bed   \n",
       "3  Entire home/apt  Real Bed   \n",
       "4  Entire home/apt  Real Bed   \n",
       "\n",
       "                                           amenities    price  \\\n",
       "0  {TV,\"Cable TV\",Internet,\"Wireless Internet\",\"A...   $85.00   \n",
       "1  {TV,Internet,\"Wireless Internet\",Kitchen,\"Free...  $150.00   \n",
       "2  {TV,\"Cable TV\",Internet,\"Wireless Internet\",\"A...  $975.00   \n",
       "3  {Internet,\"Wireless Internet\",Kitchen,\"Indoor ...  $100.00   \n",
       "4  {TV,\"Cable TV\",Internet,\"Wireless Internet\",Ki...  $450.00   \n",
       "\n",
       "  security_deposit cleaning_fee  review_scores_cleanliness  \n",
       "0              NaN          NaN                       10.0  \n",
       "1          $100.00       $40.00                       10.0  \n",
       "2        $1,000.00      $300.00                       10.0  \n",
       "3              NaN          NaN                        NaN  \n",
       "4          $700.00      $125.00                        9.0  "
      ]
     },
     "execution_count": 8,
     "metadata": {},
     "output_type": "execute_result"
    }
   ],
   "source": [
    "listings_df = listings_df[cols_of_interest]\n",
    "listings_df.head()"
   ]
  },
  {
   "cell_type": "code",
   "execution_count": 9,
   "metadata": {},
   "outputs": [
    {
     "data": {
      "text/plain": [
       "Index(['neighbourhood_group_cleansed', 'property_type', 'room_type',\n",
       "       'bed_type', 'amenities', 'price', 'security_deposit', 'cleaning_fee'],\n",
       "      dtype='object')"
      ]
     },
     "execution_count": 9,
     "metadata": {},
     "output_type": "execute_result"
    }
   ],
   "source": [
    "#find categorical columns and display them\n",
    "listings_cat_cols = listings_df.select_dtypes(include='object')\n",
    "listings_cat_cols.columns"
   ]
  },
  {
   "cell_type": "markdown",
   "metadata": {},
   "source": [
    "Let's take a quick look at how (or if) these variables relate to cleanliness. To start, I'll display the cleanliness ratings grouped by room type as follows:"
   ]
  },
  {
   "cell_type": "code",
   "execution_count": 10,
   "metadata": {},
   "outputs": [
    {
     "data": {
      "text/html": [
       "<div>\n",
       "<style scoped>\n",
       "    .dataframe tbody tr th:only-of-type {\n",
       "        vertical-align: middle;\n",
       "    }\n",
       "\n",
       "    .dataframe tbody tr th {\n",
       "        vertical-align: top;\n",
       "    }\n",
       "\n",
       "    .dataframe thead tr th {\n",
       "        text-align: left;\n",
       "    }\n",
       "\n",
       "    .dataframe thead tr:last-of-type th {\n",
       "        text-align: right;\n",
       "    }\n",
       "</style>\n",
       "<table border=\"1\" class=\"dataframe\">\n",
       "  <thead>\n",
       "    <tr>\n",
       "      <th></th>\n",
       "      <th colspan=\"2\" halign=\"left\">review_scores_cleanliness</th>\n",
       "    </tr>\n",
       "    <tr>\n",
       "      <th></th>\n",
       "      <th>mean</th>\n",
       "      <th>count</th>\n",
       "    </tr>\n",
       "    <tr>\n",
       "      <th>room_type</th>\n",
       "      <th></th>\n",
       "      <th></th>\n",
       "    </tr>\n",
       "  </thead>\n",
       "  <tbody>\n",
       "    <tr>\n",
       "      <th>Entire home/apt</th>\n",
       "      <td>9.587376</td>\n",
       "      <td>2123</td>\n",
       "    </tr>\n",
       "    <tr>\n",
       "      <th>Private room</th>\n",
       "      <td>9.542105</td>\n",
       "      <td>950</td>\n",
       "    </tr>\n",
       "    <tr>\n",
       "      <th>Shared room</th>\n",
       "      <td>8.989130</td>\n",
       "      <td>92</td>\n",
       "    </tr>\n",
       "  </tbody>\n",
       "</table>\n",
       "</div>"
      ],
      "text/plain": [
       "                review_scores_cleanliness      \n",
       "                                     mean count\n",
       "room_type                                      \n",
       "Entire home/apt                  9.587376  2123\n",
       "Private room                     9.542105   950\n",
       "Shared room                      8.989130    92"
      ]
     },
     "execution_count": 10,
     "metadata": {},
     "output_type": "execute_result"
    }
   ],
   "source": [
    "room_type_cleanliness = listings_df.copy().groupby(['room_type']).agg(['mean','count'])\n",
    "room_type_cleanliness[[('review_scores_cleanliness','mean'),('review_scores_cleanliness','count')]].sort_values(by=('review_scores_cleanliness','mean'),ascending=False)"
   ]
  },
  {
   "cell_type": "markdown",
   "metadata": {},
   "source": [
    "It looks like there is some relationship between cleanliness and room type: Entire homes have the highest mean cleanliness score while shared rooms have the lowest (although not that low ...)\n",
    "\n",
    "Let's look at a few other variables, using a function to improve efficiency:"
   ]
  },
  {
   "cell_type": "code",
   "execution_count": 11,
   "metadata": {},
   "outputs": [],
   "source": [
    "def group_cleanliness(df,predictor_var,response_var='review_scores_cleanliness'):\n",
    "    '''\n",
    "    INPUT:\n",
    "    df - a dataframe holding all the variables of interest and response_var\n",
    "    predictor_var - a string holding the name of the predictor column you want to assess\n",
    "    response_var  - a string holding the name of the response column you want to group by \\\n",
    "                    default is `review_scores_cleanliness`\n",
    "    \n",
    "    OUTPUT:\n",
    "    df_sorted - a sorted dataframe consisting of the predictor_variable categories as the index \\\n",
    "                and mean and count of the response variable by each predictor category\n",
    "    \n",
    "    '''\n",
    "    df_clean = df.copy().groupby([predictor_var]).agg(['mean','count'])\n",
    "    df_sorted = df_clean[[(response_var,'mean'),(response_var,'count')]].sort_values(by=(response_var,'mean'),ascending=False)\n",
    "    return df_sorted"
   ]
  },
  {
   "cell_type": "markdown",
   "metadata": {},
   "source": [
    "Let's see if there are any noticeable relationships between cleanliness and some of the other categorical variables:"
   ]
  },
  {
   "cell_type": "code",
   "execution_count": 12,
   "metadata": {},
   "outputs": [
    {
     "data": {
      "text/html": [
       "<div>\n",
       "<style scoped>\n",
       "    .dataframe tbody tr th:only-of-type {\n",
       "        vertical-align: middle;\n",
       "    }\n",
       "\n",
       "    .dataframe tbody tr th {\n",
       "        vertical-align: top;\n",
       "    }\n",
       "\n",
       "    .dataframe thead tr th {\n",
       "        text-align: left;\n",
       "    }\n",
       "\n",
       "    .dataframe thead tr:last-of-type th {\n",
       "        text-align: right;\n",
       "    }\n",
       "</style>\n",
       "<table border=\"1\" class=\"dataframe\">\n",
       "  <thead>\n",
       "    <tr>\n",
       "      <th></th>\n",
       "      <th colspan=\"2\" halign=\"left\">review_scores_cleanliness</th>\n",
       "    </tr>\n",
       "    <tr>\n",
       "      <th></th>\n",
       "      <th>mean</th>\n",
       "      <th>count</th>\n",
       "    </tr>\n",
       "    <tr>\n",
       "      <th>neighbourhood_group_cleansed</th>\n",
       "      <th></th>\n",
       "      <th></th>\n",
       "    </tr>\n",
       "  </thead>\n",
       "  <tbody>\n",
       "    <tr>\n",
       "      <th>Interbay</th>\n",
       "      <td>9.777778</td>\n",
       "      <td>9</td>\n",
       "    </tr>\n",
       "    <tr>\n",
       "      <th>West Seattle</th>\n",
       "      <td>9.753086</td>\n",
       "      <td>162</td>\n",
       "    </tr>\n",
       "    <tr>\n",
       "      <th>Delridge</th>\n",
       "      <td>9.738462</td>\n",
       "      <td>65</td>\n",
       "    </tr>\n",
       "    <tr>\n",
       "      <th>Seward Park</th>\n",
       "      <td>9.717949</td>\n",
       "      <td>39</td>\n",
       "    </tr>\n",
       "    <tr>\n",
       "      <th>Queen Anne</th>\n",
       "      <td>9.682927</td>\n",
       "      <td>246</td>\n",
       "    </tr>\n",
       "    <tr>\n",
       "      <th>Ballard</th>\n",
       "      <td>9.668394</td>\n",
       "      <td>193</td>\n",
       "    </tr>\n",
       "    <tr>\n",
       "      <th>Northgate</th>\n",
       "      <td>9.661538</td>\n",
       "      <td>65</td>\n",
       "    </tr>\n",
       "    <tr>\n",
       "      <th>Central Area</th>\n",
       "      <td>9.655172</td>\n",
       "      <td>319</td>\n",
       "    </tr>\n",
       "    <tr>\n",
       "      <th>Rainier Valley</th>\n",
       "      <td>9.626866</td>\n",
       "      <td>134</td>\n",
       "    </tr>\n",
       "    <tr>\n",
       "      <th>Downtown</th>\n",
       "      <td>9.567033</td>\n",
       "      <td>455</td>\n",
       "    </tr>\n",
       "    <tr>\n",
       "      <th>Lake City</th>\n",
       "      <td>9.535714</td>\n",
       "      <td>56</td>\n",
       "    </tr>\n",
       "    <tr>\n",
       "      <th>Other neighborhoods</th>\n",
       "      <td>9.532925</td>\n",
       "      <td>653</td>\n",
       "    </tr>\n",
       "    <tr>\n",
       "      <th>Beacon Hill</th>\n",
       "      <td>9.466019</td>\n",
       "      <td>103</td>\n",
       "    </tr>\n",
       "    <tr>\n",
       "      <th>Magnolia</th>\n",
       "      <td>9.446809</td>\n",
       "      <td>47</td>\n",
       "    </tr>\n",
       "    <tr>\n",
       "      <th>Capitol Hill</th>\n",
       "      <td>9.424837</td>\n",
       "      <td>459</td>\n",
       "    </tr>\n",
       "    <tr>\n",
       "      <th>Cascade</th>\n",
       "      <td>9.261538</td>\n",
       "      <td>65</td>\n",
       "    </tr>\n",
       "    <tr>\n",
       "      <th>University District</th>\n",
       "      <td>9.063158</td>\n",
       "      <td>95</td>\n",
       "    </tr>\n",
       "  </tbody>\n",
       "</table>\n",
       "</div>"
      ],
      "text/plain": [
       "                             review_scores_cleanliness      \n",
       "                                                  mean count\n",
       "neighbourhood_group_cleansed                                \n",
       "Interbay                                      9.777778     9\n",
       "West Seattle                                  9.753086   162\n",
       "Delridge                                      9.738462    65\n",
       "Seward Park                                   9.717949    39\n",
       "Queen Anne                                    9.682927   246\n",
       "Ballard                                       9.668394   193\n",
       "Northgate                                     9.661538    65\n",
       "Central Area                                  9.655172   319\n",
       "Rainier Valley                                9.626866   134\n",
       "Downtown                                      9.567033   455\n",
       "Lake City                                     9.535714    56\n",
       "Other neighborhoods                           9.532925   653\n",
       "Beacon Hill                                   9.466019   103\n",
       "Magnolia                                      9.446809    47\n",
       "Capitol Hill                                  9.424837   459\n",
       "Cascade                                       9.261538    65\n",
       "University District                           9.063158    95"
      ]
     },
     "metadata": {},
     "output_type": "display_data"
    },
    {
     "data": {
      "text/html": [
       "<div>\n",
       "<style scoped>\n",
       "    .dataframe tbody tr th:only-of-type {\n",
       "        vertical-align: middle;\n",
       "    }\n",
       "\n",
       "    .dataframe tbody tr th {\n",
       "        vertical-align: top;\n",
       "    }\n",
       "\n",
       "    .dataframe thead tr th {\n",
       "        text-align: left;\n",
       "    }\n",
       "\n",
       "    .dataframe thead tr:last-of-type th {\n",
       "        text-align: right;\n",
       "    }\n",
       "</style>\n",
       "<table border=\"1\" class=\"dataframe\">\n",
       "  <thead>\n",
       "    <tr>\n",
       "      <th></th>\n",
       "      <th colspan=\"2\" halign=\"left\">review_scores_cleanliness</th>\n",
       "    </tr>\n",
       "    <tr>\n",
       "      <th></th>\n",
       "      <th>mean</th>\n",
       "      <th>count</th>\n",
       "    </tr>\n",
       "    <tr>\n",
       "      <th>property_type</th>\n",
       "      <th></th>\n",
       "      <th></th>\n",
       "    </tr>\n",
       "  </thead>\n",
       "  <tbody>\n",
       "    <tr>\n",
       "      <th>Bungalow</th>\n",
       "      <td>10.000000</td>\n",
       "      <td>9</td>\n",
       "    </tr>\n",
       "    <tr>\n",
       "      <th>Treehouse</th>\n",
       "      <td>10.000000</td>\n",
       "      <td>2</td>\n",
       "    </tr>\n",
       "    <tr>\n",
       "      <th>Yurt</th>\n",
       "      <td>10.000000</td>\n",
       "      <td>1</td>\n",
       "    </tr>\n",
       "    <tr>\n",
       "      <th>Cabin</th>\n",
       "      <td>9.809524</td>\n",
       "      <td>21</td>\n",
       "    </tr>\n",
       "    <tr>\n",
       "      <th>Boat</th>\n",
       "      <td>9.800000</td>\n",
       "      <td>5</td>\n",
       "    </tr>\n",
       "    <tr>\n",
       "      <th>Camper/RV</th>\n",
       "      <td>9.800000</td>\n",
       "      <td>10</td>\n",
       "    </tr>\n",
       "    <tr>\n",
       "      <th>Townhouse</th>\n",
       "      <td>9.750000</td>\n",
       "      <td>80</td>\n",
       "    </tr>\n",
       "    <tr>\n",
       "      <th>Condominium</th>\n",
       "      <td>9.652174</td>\n",
       "      <td>69</td>\n",
       "    </tr>\n",
       "    <tr>\n",
       "      <th>Bed &amp; Breakfast</th>\n",
       "      <td>9.615385</td>\n",
       "      <td>26</td>\n",
       "    </tr>\n",
       "    <tr>\n",
       "      <th>Loft</th>\n",
       "      <td>9.606061</td>\n",
       "      <td>33</td>\n",
       "    </tr>\n",
       "    <tr>\n",
       "      <th>Other</th>\n",
       "      <td>9.578947</td>\n",
       "      <td>19</td>\n",
       "    </tr>\n",
       "    <tr>\n",
       "      <th>House</th>\n",
       "      <td>9.558682</td>\n",
       "      <td>1457</td>\n",
       "    </tr>\n",
       "    <tr>\n",
       "      <th>Apartment</th>\n",
       "      <td>9.529123</td>\n",
       "      <td>1425</td>\n",
       "    </tr>\n",
       "    <tr>\n",
       "      <th>Tent</th>\n",
       "      <td>9.500000</td>\n",
       "      <td>4</td>\n",
       "    </tr>\n",
       "    <tr>\n",
       "      <th>Dorm</th>\n",
       "      <td>9.000000</td>\n",
       "      <td>2</td>\n",
       "    </tr>\n",
       "    <tr>\n",
       "      <th>Chalet</th>\n",
       "      <td>8.000000</td>\n",
       "      <td>2</td>\n",
       "    </tr>\n",
       "  </tbody>\n",
       "</table>\n",
       "</div>"
      ],
      "text/plain": [
       "                review_scores_cleanliness      \n",
       "                                     mean count\n",
       "property_type                                  \n",
       "Bungalow                        10.000000     9\n",
       "Treehouse                       10.000000     2\n",
       "Yurt                            10.000000     1\n",
       "Cabin                            9.809524    21\n",
       "Boat                             9.800000     5\n",
       "Camper/RV                        9.800000    10\n",
       "Townhouse                        9.750000    80\n",
       "Condominium                      9.652174    69\n",
       "Bed & Breakfast                  9.615385    26\n",
       "Loft                             9.606061    33\n",
       "Other                            9.578947    19\n",
       "House                            9.558682  1457\n",
       "Apartment                        9.529123  1425\n",
       "Tent                             9.500000     4\n",
       "Dorm                             9.000000     2\n",
       "Chalet                           8.000000     2"
      ]
     },
     "metadata": {},
     "output_type": "display_data"
    },
    {
     "data": {
      "text/html": [
       "<div>\n",
       "<style scoped>\n",
       "    .dataframe tbody tr th:only-of-type {\n",
       "        vertical-align: middle;\n",
       "    }\n",
       "\n",
       "    .dataframe tbody tr th {\n",
       "        vertical-align: top;\n",
       "    }\n",
       "\n",
       "    .dataframe thead tr th {\n",
       "        text-align: left;\n",
       "    }\n",
       "\n",
       "    .dataframe thead tr:last-of-type th {\n",
       "        text-align: right;\n",
       "    }\n",
       "</style>\n",
       "<table border=\"1\" class=\"dataframe\">\n",
       "  <thead>\n",
       "    <tr>\n",
       "      <th></th>\n",
       "      <th colspan=\"2\" halign=\"left\">review_scores_cleanliness</th>\n",
       "    </tr>\n",
       "    <tr>\n",
       "      <th></th>\n",
       "      <th>mean</th>\n",
       "      <th>count</th>\n",
       "    </tr>\n",
       "    <tr>\n",
       "      <th>bed_type</th>\n",
       "      <th></th>\n",
       "      <th></th>\n",
       "    </tr>\n",
       "  </thead>\n",
       "  <tbody>\n",
       "    <tr>\n",
       "      <th>Pull-out Sofa</th>\n",
       "      <td>9.615385</td>\n",
       "      <td>39</td>\n",
       "    </tr>\n",
       "    <tr>\n",
       "      <th>Real Bed</th>\n",
       "      <td>9.559434</td>\n",
       "      <td>3037</td>\n",
       "    </tr>\n",
       "    <tr>\n",
       "      <th>Couch</th>\n",
       "      <td>9.500000</td>\n",
       "      <td>8</td>\n",
       "    </tr>\n",
       "    <tr>\n",
       "      <th>Futon</th>\n",
       "      <td>9.428571</td>\n",
       "      <td>63</td>\n",
       "    </tr>\n",
       "    <tr>\n",
       "      <th>Airbed</th>\n",
       "      <td>9.388889</td>\n",
       "      <td>18</td>\n",
       "    </tr>\n",
       "  </tbody>\n",
       "</table>\n",
       "</div>"
      ],
      "text/plain": [
       "              review_scores_cleanliness      \n",
       "                                   mean count\n",
       "bed_type                                     \n",
       "Pull-out Sofa                  9.615385    39\n",
       "Real Bed                       9.559434  3037\n",
       "Couch                          9.500000     8\n",
       "Futon                          9.428571    63\n",
       "Airbed                         9.388889    18"
      ]
     },
     "metadata": {},
     "output_type": "display_data"
    }
   ],
   "source": [
    "for val in ['neighbourhood_group_cleansed','property_type','bed_type']:\n",
    "    df = group_cleanliness(listings_df,val)\n",
    "    display(df)"
   ]
  },
  {
   "cell_type": "markdown",
   "metadata": {},
   "source": [
    "This shows us some things we might expect, however it's important to pay attention to the count. For example, the lowest cleanliness scores by property type are Dorm and Chalet, but there were only two data points used for each of those data points, which is not enough to make any conclusive statements. Likewise there's not a lot of variability in the cleanlienss ratings averaged by bed_type. Let's drop property_type and bed_type ... "
   ]
  },
  {
   "cell_type": "code",
   "execution_count": 13,
   "metadata": {},
   "outputs": [],
   "source": [
    "listings_df = listings_df.drop(['property_type','bed_type'],axis=1)"
   ]
  },
  {
   "cell_type": "markdown",
   "metadata": {},
   "source": [
    "Note that some of these categorical columns I selected are prices, which probably should be a continuous variable. We can convert thse to floats using `str.replace` to get rid of the non-numerical characters ($ and ,) and then casting to a new type."
   ]
  },
  {
   "cell_type": "code",
   "execution_count": 14,
   "metadata": {},
   "outputs": [],
   "source": [
    "price_cols = ['price','cleaning_fee','security_deposit']\n",
    "for col in price_cols:\n",
    "    listings_df[col] = listings_df[col].str.replace('[\\$,]', '', regex=True).astype(float)"
   ]
  },
  {
   "cell_type": "code",
   "execution_count": 15,
   "metadata": {},
   "outputs": [
    {
     "data": {
      "text/html": [
       "<div>\n",
       "<style scoped>\n",
       "    .dataframe tbody tr th:only-of-type {\n",
       "        vertical-align: middle;\n",
       "    }\n",
       "\n",
       "    .dataframe tbody tr th {\n",
       "        vertical-align: top;\n",
       "    }\n",
       "\n",
       "    .dataframe thead th {\n",
       "        text-align: right;\n",
       "    }\n",
       "</style>\n",
       "<table border=\"1\" class=\"dataframe\">\n",
       "  <thead>\n",
       "    <tr style=\"text-align: right;\">\n",
       "      <th></th>\n",
       "      <th>price</th>\n",
       "      <th>cleaning_fee</th>\n",
       "      <th>security_deposit</th>\n",
       "    </tr>\n",
       "  </thead>\n",
       "  <tbody>\n",
       "    <tr>\n",
       "      <th>0</th>\n",
       "      <td>85.0</td>\n",
       "      <td>NaN</td>\n",
       "      <td>NaN</td>\n",
       "    </tr>\n",
       "    <tr>\n",
       "      <th>1</th>\n",
       "      <td>150.0</td>\n",
       "      <td>40.0</td>\n",
       "      <td>100.0</td>\n",
       "    </tr>\n",
       "    <tr>\n",
       "      <th>2</th>\n",
       "      <td>975.0</td>\n",
       "      <td>300.0</td>\n",
       "      <td>1000.0</td>\n",
       "    </tr>\n",
       "    <tr>\n",
       "      <th>3</th>\n",
       "      <td>100.0</td>\n",
       "      <td>NaN</td>\n",
       "      <td>NaN</td>\n",
       "    </tr>\n",
       "    <tr>\n",
       "      <th>4</th>\n",
       "      <td>450.0</td>\n",
       "      <td>125.0</td>\n",
       "      <td>700.0</td>\n",
       "    </tr>\n",
       "  </tbody>\n",
       "</table>\n",
       "</div>"
      ],
      "text/plain": [
       "   price  cleaning_fee  security_deposit\n",
       "0   85.0           NaN               NaN\n",
       "1  150.0          40.0             100.0\n",
       "2  975.0         300.0            1000.0\n",
       "3  100.0           NaN               NaN\n",
       "4  450.0         125.0             700.0"
      ]
     },
     "execution_count": 15,
     "metadata": {},
     "output_type": "execute_result"
    }
   ],
   "source": [
    "listings_df[['price','cleaning_fee','security_deposit']].head()"
   ]
  },
  {
   "cell_type": "markdown",
   "metadata": {},
   "source": [
    "Lastly, before we create dummies for the categorical variables, let's see how many different options there are for each of them: "
   ]
  },
  {
   "cell_type": "code",
   "execution_count": 16,
   "metadata": {},
   "outputs": [
    {
     "name": "stdout",
     "output_type": "stream",
     "text": [
      "neighbourhood_group_cleansed: 17\n",
      "room_type: 3\n",
      "amenities: 3284\n"
     ]
    }
   ],
   "source": [
    "for col in listings_df.select_dtypes(include='object'):\n",
    "    print(col + ': ' + str(len(listings_df[col].unique())))"
   ]
  },
  {
   "cell_type": "markdown",
   "metadata": {},
   "source": [
    "We need to do something about the `amenities` column, since this probably has some influence on the rating, but right now there are way too many values in this to just throw it into the model as-is. Let's find a list of all the unique amenities, not a unique set of all the lists. We can do this with the newer pandas `explode` method, but first we need to clean this column so that each entry is a list, and strip out the superfluous characters such as `{`  and `}`"
   ]
  },
  {
   "cell_type": "code",
   "execution_count": 17,
   "metadata": {},
   "outputs": [],
   "source": [
    "# Clean amenities\n",
    "clean_amenities = lambda col: col.strip('{}').split(',')\n",
    "# Apply the function to the 'amenities' column\n",
    "listings_df['amenities_list'] = listings_df['amenities'].apply(clean_amenities)"
   ]
  },
  {
   "cell_type": "code",
   "execution_count": 18,
   "metadata": {},
   "outputs": [
    {
     "data": {
      "text/plain": [
       "0       [TV, \"Cable TV\", Internet, \"Wireless Internet\"...\n",
       "1       [TV, Internet, \"Wireless Internet\", Kitchen, \"...\n",
       "2       [TV, \"Cable TV\", Internet, \"Wireless Internet\"...\n",
       "3       [Internet, \"Wireless Internet\", Kitchen, \"Indo...\n",
       "4       [TV, \"Cable TV\", Internet, \"Wireless Internet\"...\n",
       "                              ...                        \n",
       "3813    [TV, \"Cable TV\", Internet, \"Wireless Internet\"...\n",
       "3814    [TV, \"Cable TV\", Internet, \"Wireless Internet\"...\n",
       "3815    [\"Cable TV\", \"Wireless Internet\", Kitchen, \"Fr...\n",
       "3816    [TV, \"Wireless Internet\", Kitchen, \"Free Parki...\n",
       "3817    [TV, \"Cable TV\", Internet, \"Wireless Internet\"...\n",
       "Name: amenities_list, Length: 3818, dtype: object"
      ]
     },
     "execution_count": 18,
     "metadata": {},
     "output_type": "execute_result"
    }
   ],
   "source": [
    "listings_df['amenities_list']"
   ]
  },
  {
   "cell_type": "markdown",
   "metadata": {},
   "source": [
    "Using tips from this stackoverflow post, we can extract the unique values using `explode`:\n",
    "https://stackoverflow.com/questions/51813266/get-unique-values-from-pandas-series-of-lists"
   ]
  },
  {
   "cell_type": "code",
   "execution_count": 19,
   "metadata": {
    "scrolled": true
   },
   "outputs": [
    {
     "data": {
      "text/plain": [
       "\"Wireless Internet\"             3667\n",
       "Heating                         3627\n",
       "Kitchen                         3423\n",
       "\"Smoke Detector\"                3281\n",
       "Essentials                      3237\n",
       "Dryer                           2997\n",
       "Washer                          2992\n",
       "Internet                        2811\n",
       "Shampoo                         2670\n",
       "TV                              2574\n",
       "\"Carbon Monoxide Detector\"      2485\n",
       "\"Fire Extinguisher\"             2196\n",
       "\"Free Parking on Premises\"      2167\n",
       "\"Family/Kid Friendly\"           1963\n",
       "\"First Aid Kit\"                 1680\n",
       "\"Cable TV\"                      1446\n",
       "\"Indoor Fireplace\"               886\n",
       "\"Pets live on this property\"     883\n",
       "Hangers                          846\n",
       "\"Elevator in Building\"           785\n",
       "\"Hair Dryer\"                     774\n",
       "\"Laptop Friendly Workspace\"      745\n",
       "Iron                             742\n",
       "\"Safety Card\"                    727\n",
       "\"Air Conditioning\"               677\n",
       "\"24-Hour Check-in\"               616\n",
       "\"Buzzer/Wireless Intercom\"       538\n",
       "Dog(s)                           509\n",
       "\"Pets Allowed\"                   472\n",
       "Gym                              442\n",
       "Cat(s)                           382\n",
       "\"Hot Tub\"                        303\n",
       "\"Wheelchair Accessible\"          300\n",
       "Breakfast                        291\n",
       "\"Suitable for Events\"            209\n",
       "Pool                             159\n",
       "\"Lock on Bedroom Door\"           100\n",
       "Doorman                           85\n",
       "\"Smoking Allowed\"                 82\n",
       "\"Other pet(s)\"                    51\n",
       "                                  45\n",
       "\"Washer / Dryer\"                   2\n",
       "Name: amenities_list, dtype: int64"
      ]
     },
     "execution_count": 19,
     "metadata": {},
     "output_type": "execute_result"
    }
   ],
   "source": [
    "listings_df['amenities_list'].explode().value_counts()"
   ]
  },
  {
   "cell_type": "markdown",
   "metadata": {},
   "source": [
    "Take the length of this list to get the number of unique amenities:"
   ]
  },
  {
   "cell_type": "code",
   "execution_count": 20,
   "metadata": {},
   "outputs": [
    {
     "data": {
      "text/plain": [
       "42"
      ]
     },
     "execution_count": 20,
     "metadata": {},
     "output_type": "execute_result"
    }
   ],
   "source": [
    "len(listings_df['amenities_list'].explode().value_counts())"
   ]
  },
  {
   "cell_type": "markdown",
   "metadata": {},
   "source": [
    "There are still 42 unique values for the amenities, reading through the list let's make some separate columns for the amenities which we think might affect cleanliness, like whether the listing has or allows `pets`, `smoking`, and `fireplaces`."
   ]
  },
  {
   "cell_type": "code",
   "execution_count": 21,
   "metadata": {
    "scrolled": true
   },
   "outputs": [],
   "source": [
    "listings_df['pet_friendly'] = listings_df['amenities'].str.contains('|'.join(['Pet','pet','Cat','Dog']))\n",
    "listings_df['pet_friendly'] = listings_df['pet_friendly'].map({True: 'Yes', False: 'No'})"
   ]
  },
  {
   "cell_type": "markdown",
   "metadata": {},
   "source": [
    "We can create the other fields more systematically using a function, given the exact name of the amenity we are looking for."
   ]
  },
  {
   "cell_type": "code",
   "execution_count": 22,
   "metadata": {},
   "outputs": [],
   "source": [
    "def create_col_from_amenity(df,amenity_str,new_col_name):\n",
    "    '''\n",
    "    INPUTS\n",
    "    df - dataframe containing `amenities` column (listings_df)\n",
    "    amenity - the name of the amenity (or could also be substring that is only in that amenity)\n",
    "    new_col_name - name of column to be appended (eg. smoker_friendly)\n",
    "    \n",
    "    OUTPUTS\n",
    "    df - dataframe with new appended boolean (t/f) column indicating existence of amenity\n",
    "    \n",
    "    eg. create_col_from_amenity(listings_df,'Smoking Allowed',smoker_friendly')\n",
    "    '''\n",
    "    \n",
    "    df[new_col_name] = df['amenities'].str.contains(amenity_str)\n",
    "    return df"
   ]
  },
  {
   "cell_type": "code",
   "execution_count": 23,
   "metadata": {},
   "outputs": [],
   "source": [
    "amenity_dict = {'Smoking Allowed':'smoker_friendly','Fireplace':'has_fireplace'}\n",
    "\n",
    "for key,val in amenity_dict.items():\n",
    "    listings_df = create_col_from_amenity(listings_df,key,val)"
   ]
  },
  {
   "cell_type": "code",
   "execution_count": 24,
   "metadata": {},
   "outputs": [
    {
     "data": {
      "text/plain": [
       "Index(['neighbourhood_group_cleansed', 'latitude', 'longitude', 'room_type',\n",
       "       'amenities', 'price', 'security_deposit', 'cleaning_fee',\n",
       "       'review_scores_cleanliness', 'amenities_list', 'pet_friendly',\n",
       "       'smoker_friendly', 'has_fireplace'],\n",
       "      dtype='object')"
      ]
     },
     "execution_count": 24,
     "metadata": {},
     "output_type": "execute_result"
    }
   ],
   "source": [
    "listings_df.columns"
   ]
  },
  {
   "cell_type": "code",
   "execution_count": 25,
   "metadata": {},
   "outputs": [
    {
     "data": {
      "text/plain": [
       "False    3736\n",
       "True       82\n",
       "Name: smoker_friendly, dtype: int64"
      ]
     },
     "execution_count": 25,
     "metadata": {},
     "output_type": "execute_result"
    }
   ],
   "source": [
    "listings_df['smoker_friendly'].value_counts()"
   ]
  },
  {
   "cell_type": "markdown",
   "metadata": {},
   "source": [
    "Now use the `group_cleanliness` function defined earlier to display the relationships between these new variables and the cleanliness rating:"
   ]
  },
  {
   "cell_type": "code",
   "execution_count": 46,
   "metadata": {},
   "outputs": [
    {
     "data": {
      "text/html": [
       "<div>\n",
       "<style scoped>\n",
       "    .dataframe tbody tr th:only-of-type {\n",
       "        vertical-align: middle;\n",
       "    }\n",
       "\n",
       "    .dataframe tbody tr th {\n",
       "        vertical-align: top;\n",
       "    }\n",
       "\n",
       "    .dataframe thead tr th {\n",
       "        text-align: left;\n",
       "    }\n",
       "\n",
       "    .dataframe thead tr:last-of-type th {\n",
       "        text-align: right;\n",
       "    }\n",
       "</style>\n",
       "<table border=\"1\" class=\"dataframe\">\n",
       "  <thead>\n",
       "    <tr>\n",
       "      <th></th>\n",
       "      <th colspan=\"2\" halign=\"left\">review_scores_cleanliness</th>\n",
       "    </tr>\n",
       "    <tr>\n",
       "      <th></th>\n",
       "      <th>mean</th>\n",
       "      <th>count</th>\n",
       "    </tr>\n",
       "    <tr>\n",
       "      <th>room_type</th>\n",
       "      <th></th>\n",
       "      <th></th>\n",
       "    </tr>\n",
       "  </thead>\n",
       "  <tbody>\n",
       "    <tr>\n",
       "      <th>Entire home/apt</th>\n",
       "      <td>9.587376</td>\n",
       "      <td>2123</td>\n",
       "    </tr>\n",
       "    <tr>\n",
       "      <th>Private room</th>\n",
       "      <td>9.542105</td>\n",
       "      <td>950</td>\n",
       "    </tr>\n",
       "    <tr>\n",
       "      <th>Shared room</th>\n",
       "      <td>8.989130</td>\n",
       "      <td>92</td>\n",
       "    </tr>\n",
       "  </tbody>\n",
       "</table>\n",
       "</div>"
      ],
      "text/plain": [
       "                review_scores_cleanliness      \n",
       "                                     mean count\n",
       "room_type                                      \n",
       "Entire home/apt                  9.587376  2123\n",
       "Private room                     9.542105   950\n",
       "Shared room                      8.989130    92"
      ]
     },
     "metadata": {},
     "output_type": "display_data"
    },
    {
     "data": {
      "text/html": [
       "<div>\n",
       "<style scoped>\n",
       "    .dataframe tbody tr th:only-of-type {\n",
       "        vertical-align: middle;\n",
       "    }\n",
       "\n",
       "    .dataframe tbody tr th {\n",
       "        vertical-align: top;\n",
       "    }\n",
       "\n",
       "    .dataframe thead tr th {\n",
       "        text-align: left;\n",
       "    }\n",
       "\n",
       "    .dataframe thead tr:last-of-type th {\n",
       "        text-align: right;\n",
       "    }\n",
       "</style>\n",
       "<table border=\"1\" class=\"dataframe\">\n",
       "  <thead>\n",
       "    <tr>\n",
       "      <th></th>\n",
       "      <th colspan=\"2\" halign=\"left\">review_scores_cleanliness</th>\n",
       "    </tr>\n",
       "    <tr>\n",
       "      <th></th>\n",
       "      <th>mean</th>\n",
       "      <th>count</th>\n",
       "    </tr>\n",
       "    <tr>\n",
       "      <th>pet_friendly</th>\n",
       "      <th></th>\n",
       "      <th></th>\n",
       "    </tr>\n",
       "  </thead>\n",
       "  <tbody>\n",
       "    <tr>\n",
       "      <th>Yes</th>\n",
       "      <td>9.570858</td>\n",
       "      <td>1002</td>\n",
       "    </tr>\n",
       "    <tr>\n",
       "      <th>No</th>\n",
       "      <td>9.549699</td>\n",
       "      <td>2163</td>\n",
       "    </tr>\n",
       "  </tbody>\n",
       "</table>\n",
       "</div>"
      ],
      "text/plain": [
       "             review_scores_cleanliness      \n",
       "                                  mean count\n",
       "pet_friendly                                \n",
       "Yes                           9.570858  1002\n",
       "No                            9.549699  2163"
      ]
     },
     "metadata": {},
     "output_type": "display_data"
    },
    {
     "data": {
      "text/html": [
       "<div>\n",
       "<style scoped>\n",
       "    .dataframe tbody tr th:only-of-type {\n",
       "        vertical-align: middle;\n",
       "    }\n",
       "\n",
       "    .dataframe tbody tr th {\n",
       "        vertical-align: top;\n",
       "    }\n",
       "\n",
       "    .dataframe thead tr th {\n",
       "        text-align: left;\n",
       "    }\n",
       "\n",
       "    .dataframe thead tr:last-of-type th {\n",
       "        text-align: right;\n",
       "    }\n",
       "</style>\n",
       "<table border=\"1\" class=\"dataframe\">\n",
       "  <thead>\n",
       "    <tr>\n",
       "      <th></th>\n",
       "      <th colspan=\"2\" halign=\"left\">review_scores_cleanliness</th>\n",
       "    </tr>\n",
       "    <tr>\n",
       "      <th></th>\n",
       "      <th>mean</th>\n",
       "      <th>count</th>\n",
       "    </tr>\n",
       "    <tr>\n",
       "      <th>smoker_friendly</th>\n",
       "      <th></th>\n",
       "      <th></th>\n",
       "    </tr>\n",
       "  </thead>\n",
       "  <tbody>\n",
       "    <tr>\n",
       "      <th>False</th>\n",
       "      <td>9.559574</td>\n",
       "      <td>3097</td>\n",
       "    </tr>\n",
       "    <tr>\n",
       "      <th>True</th>\n",
       "      <td>9.411765</td>\n",
       "      <td>68</td>\n",
       "    </tr>\n",
       "  </tbody>\n",
       "</table>\n",
       "</div>"
      ],
      "text/plain": [
       "                review_scores_cleanliness      \n",
       "                                     mean count\n",
       "smoker_friendly                                \n",
       "False                            9.559574  3097\n",
       "True                             9.411765    68"
      ]
     },
     "metadata": {},
     "output_type": "display_data"
    },
    {
     "data": {
      "text/html": [
       "<div>\n",
       "<style scoped>\n",
       "    .dataframe tbody tr th:only-of-type {\n",
       "        vertical-align: middle;\n",
       "    }\n",
       "\n",
       "    .dataframe tbody tr th {\n",
       "        vertical-align: top;\n",
       "    }\n",
       "\n",
       "    .dataframe thead tr th {\n",
       "        text-align: left;\n",
       "    }\n",
       "\n",
       "    .dataframe thead tr:last-of-type th {\n",
       "        text-align: right;\n",
       "    }\n",
       "</style>\n",
       "<table border=\"1\" class=\"dataframe\">\n",
       "  <thead>\n",
       "    <tr>\n",
       "      <th></th>\n",
       "      <th colspan=\"2\" halign=\"left\">review_scores_cleanliness</th>\n",
       "    </tr>\n",
       "    <tr>\n",
       "      <th></th>\n",
       "      <th>mean</th>\n",
       "      <th>count</th>\n",
       "    </tr>\n",
       "    <tr>\n",
       "      <th>has_fireplace</th>\n",
       "      <th></th>\n",
       "      <th></th>\n",
       "    </tr>\n",
       "  </thead>\n",
       "  <tbody>\n",
       "    <tr>\n",
       "      <th>False</th>\n",
       "      <td>9.560313</td>\n",
       "      <td>2429</td>\n",
       "    </tr>\n",
       "    <tr>\n",
       "      <th>True</th>\n",
       "      <td>9.543478</td>\n",
       "      <td>736</td>\n",
       "    </tr>\n",
       "  </tbody>\n",
       "</table>\n",
       "</div>"
      ],
      "text/plain": [
       "              review_scores_cleanliness      \n",
       "                                   mean count\n",
       "has_fireplace                                \n",
       "False                          9.560313  2429\n",
       "True                           9.543478   736"
      ]
     },
     "metadata": {},
     "output_type": "display_data"
    }
   ],
   "source": [
    "for val in ['pet_friendly','smoker_friendly','has_fireplace']:\n",
    "    df = group_cleanliness(listings_df,val)\n",
    "    display(df)"
   ]
  },
  {
   "cell_type": "markdown",
   "metadata": {},
   "source": [
    "It looks like these variables have very little affect on the cleanliness rating, in fact pet friendly abodes are actually reviewed as being slightly cleaner than pet-free homes, but the difference is negligible. "
   ]
  },
  {
   "cell_type": "code",
   "execution_count": 27,
   "metadata": {},
   "outputs": [
    {
     "name": "stdout",
     "output_type": "stream",
     "text": [
      "neighbourhood_group_cleansed: 17\n",
      "room_type: 3\n",
      "amenities: 3284\n",
      "amenities_list: n/a\n",
      "pet_friendly: 2\n"
     ]
    }
   ],
   "source": [
    "for col in listings_df.select_dtypes(include='object'):\n",
    "    try:\n",
    "        print(col + ': ' + str(len(listings_df[col].unique())))\n",
    "    except:\n",
    "        print(col + ': n/a')"
   ]
  },
  {
   "cell_type": "code",
   "execution_count": 28,
   "metadata": {},
   "outputs": [],
   "source": [
    "listings_df = listings_df.drop(['amenities','amenities_list'],axis=1)"
   ]
  },
  {
   "cell_type": "markdown",
   "metadata": {},
   "source": [
    "This is a more reasonable number of predictors to work with. Still probably too many, but at least we have a decent start."
   ]
  },
  {
   "cell_type": "code",
   "execution_count": 29,
   "metadata": {},
   "outputs": [
    {
     "data": {
      "text/plain": [
       "(3818, 11)"
      ]
     },
     "execution_count": 29,
     "metadata": {},
     "output_type": "execute_result"
    }
   ],
   "source": [
    "listings_df.shape"
   ]
  },
  {
   "cell_type": "code",
   "execution_count": 30,
   "metadata": {},
   "outputs": [
    {
     "data": {
      "text/plain": [
       "Index(['neighbourhood_group_cleansed', 'latitude', 'longitude', 'room_type',\n",
       "       'price', 'security_deposit', 'cleaning_fee',\n",
       "       'review_scores_cleanliness', 'pet_friendly', 'smoker_friendly',\n",
       "       'has_fireplace'],\n",
       "      dtype='object')"
      ]
     },
     "execution_count": 30,
     "metadata": {},
     "output_type": "execute_result"
    }
   ],
   "source": [
    "listings_df.columns"
   ]
  },
  {
   "cell_type": "code",
   "execution_count": 31,
   "metadata": {},
   "outputs": [
    {
     "data": {
      "text/plain": [
       "['neighbourhood_group_cleansed', 'room_type', 'pet_friendly']"
      ]
     },
     "execution_count": 31,
     "metadata": {},
     "output_type": "execute_result"
    }
   ],
   "source": [
    "list(listings_df.select_dtypes(include='object').columns)"
   ]
  },
  {
   "cell_type": "markdown",
   "metadata": {},
   "source": [
    "Let's read in the function we used to create dummy variables for the categorical variables:"
   ]
  },
  {
   "cell_type": "code",
   "execution_count": 32,
   "metadata": {},
   "outputs": [],
   "source": [
    "#Create a list of the column names of the categorical variables\n",
    "cat_cols_lst = list(listings_df.select_dtypes(include='object').columns)\n",
    "\n",
    "def create_dummy_df(df, cat_cols, dummy_na):\n",
    "    '''\n",
    "    INPUT:\n",
    "    df - pandas dataframe with categorical variables you want to dummy\n",
    "    cat_cols - list of strings that are associated with names of the categorical columns\n",
    "    dummy_na - boolean holding whether you want to dummy NA vals of categorical columns or not\n",
    "    \n",
    "    OUTPUT:\n",
    "    df - a new dataframe that has the following characteristics:\n",
    "            1. contains all columns that were not specified as categorical\n",
    "            2. removes all the original columns in cat_cols\n",
    "            3. dummy columns for each of the categorical columns in cat_cols\n",
    "            4. if dummy_na is True - it also contains dummy columns for the NaN values\n",
    "            5. Use a prefix of the column name with an underscore (_) for separating \n",
    "    '''\n",
    "    for col in cat_cols:\n",
    "        try:\n",
    "            # for each cat add dummy var, drop original column\n",
    "            df = pd.concat([df.drop(col, axis=1), pd.get_dummies(df[col], prefix=col, prefix_sep='_', drop_first=True, dummy_na=dummy_na)], axis=1)\n",
    "        except:\n",
    "            continue\n",
    "    return df"
   ]
  },
  {
   "cell_type": "code",
   "execution_count": 33,
   "metadata": {
    "scrolled": true
   },
   "outputs": [
    {
     "data": {
      "text/plain": [
       "['latitude',\n",
       " 'longitude',\n",
       " 'price',\n",
       " 'security_deposit',\n",
       " 'cleaning_fee',\n",
       " 'review_scores_cleanliness',\n",
       " 'smoker_friendly',\n",
       " 'has_fireplace',\n",
       " 'neighbourhood_group_cleansed_Beacon Hill',\n",
       " 'neighbourhood_group_cleansed_Capitol Hill',\n",
       " 'neighbourhood_group_cleansed_Cascade',\n",
       " 'neighbourhood_group_cleansed_Central Area',\n",
       " 'neighbourhood_group_cleansed_Delridge',\n",
       " 'neighbourhood_group_cleansed_Downtown',\n",
       " 'neighbourhood_group_cleansed_Interbay',\n",
       " 'neighbourhood_group_cleansed_Lake City',\n",
       " 'neighbourhood_group_cleansed_Magnolia',\n",
       " 'neighbourhood_group_cleansed_Northgate',\n",
       " 'neighbourhood_group_cleansed_Other neighborhoods',\n",
       " 'neighbourhood_group_cleansed_Queen Anne',\n",
       " 'neighbourhood_group_cleansed_Rainier Valley',\n",
       " 'neighbourhood_group_cleansed_Seward Park',\n",
       " 'neighbourhood_group_cleansed_University District',\n",
       " 'neighbourhood_group_cleansed_West Seattle',\n",
       " 'neighbourhood_group_cleansed_nan',\n",
       " 'room_type_Private room',\n",
       " 'room_type_Shared room',\n",
       " 'room_type_nan',\n",
       " 'pet_friendly_Yes',\n",
       " 'pet_friendly_nan']"
      ]
     },
     "execution_count": 33,
     "metadata": {},
     "output_type": "execute_result"
    }
   ],
   "source": [
    "df_dummy = create_dummy_df(listings_df, cat_cols_lst,dummy_na=True)\n",
    "list(df_dummy.columns)"
   ]
  },
  {
   "cell_type": "code",
   "execution_count": 34,
   "metadata": {},
   "outputs": [
    {
     "data": {
      "text/plain": [
       "Index(['neighbourhood_group_cleansed', 'latitude', 'longitude', 'room_type',\n",
       "       'price', 'security_deposit', 'cleaning_fee',\n",
       "       'review_scores_cleanliness', 'pet_friendly', 'smoker_friendly',\n",
       "       'has_fireplace'],\n",
       "      dtype='object')"
      ]
     },
     "execution_count": 34,
     "metadata": {},
     "output_type": "execute_result"
    }
   ],
   "source": [
    "listings_df.columns"
   ]
  },
  {
   "cell_type": "code",
   "execution_count": 39,
   "metadata": {},
   "outputs": [],
   "source": [
    "def clean_fit_linear_mod(df, response_col, cat_cols, fill_mean=True, dummy_na=True, test_size=.3, rand_state=42):\n",
    "    '''\n",
    "    INPUT:\n",
    "    df - a dataframe holding all the variables of interest\n",
    "    response_col - a string holding the name of the column \n",
    "    cat_cols - list of strings that are associated with names of the categorical columns\n",
    "    dummy_na - Bool holding whether you want to dummy NA vals of categorical columns or not\n",
    "    test_size - a float between [0,1] about what proportion of data should be in the test dataset\n",
    "    rand_state - an int that is provided as the random state for splitting the data into training and test \n",
    "    \n",
    "    OUTPUT:\n",
    "    test_score - float - r2 score on the test data\n",
    "    train_score - float - r2 score on the test data\n",
    "    lm_model - model object from sklearn\n",
    "    X_train, X_test, y_train, y_test - output from sklearn train test split used for optimal model\n",
    "    \n",
    "    Your function should:\n",
    "    1. Drop the rows with missing response values\n",
    "    2. Drop columns with NaN for all the values\n",
    "    3. Use create_dummy_df to dummy categorical columns\n",
    "    4. Fill the mean of the column for any missing values \n",
    "    5. Split your data into an X matrix and a response vector y\n",
    "    6. Create training and test sets of data\n",
    "    7. Instantiate a LinearRegression model with normalized data\n",
    "    8. Fit your model to the training data\n",
    "    9. Predict the response for the training data and the test data\n",
    "    10. Obtain an rsquared value for both the training and test data\n",
    "    '''\n",
    "    #Drop the rows with missing response values\n",
    "    df  = df.dropna(subset=[response_col], axis=0)\n",
    "\n",
    "    #Drop columns with all NaN values\n",
    "    df = df.dropna(how='all', axis=1)\n",
    "\n",
    "    #Dummy categorical variables\n",
    "    df = create_dummy_df(df, cat_cols, dummy_na)\n",
    "\n",
    "    if fill_mean == True:\n",
    "        # Mean function\n",
    "        fill_mean = lambda col: col.fillna(col.mean())\n",
    "        # Fill the mean\n",
    "        df = df.apply(fill_mean, axis=0)\n",
    "    else:\n",
    "        df = df.dropna(axis=0)\n",
    "\n",
    "    #Split into explanatory and response variables\n",
    "    X = df.drop(response_col, axis=1)\n",
    "    y = df[response_col]\n",
    "\n",
    "    #Split into train and test\n",
    "    X_train, X_test, y_train, y_test = train_test_split(X, y, test_size=test_size, random_state=rand_state)\n",
    "\n",
    "    lm_model = LinearRegression(normalize=True) # Instantiate\n",
    "    lm_model.fit(X_train, y_train) #Fit\n",
    "\n",
    "    #Predict using your model\n",
    "    y_test_preds = lm_model.predict(X_test)\n",
    "    y_train_preds = lm_model.predict(X_train)\n",
    "\n",
    "    #Score using your model\n",
    "    test_score = r2_score(y_test, y_test_preds)\n",
    "    train_score = r2_score(y_train, y_train_preds)\n",
    "\n",
    "    return test_score, train_score, lm_model, X_train, X_test, y_train, y_test"
   ]
  },
  {
   "cell_type": "code",
   "execution_count": 42,
   "metadata": {},
   "outputs": [
    {
     "name": "stdout",
     "output_type": "stream",
     "text": [
      "The r-squared train score and test score were 0.051 and 0.020\n"
     ]
    }
   ],
   "source": [
    "#Test function with the dataset, filling mean, and using dummy_na\n",
    "test_score, train_score, lm_model, X_train, X_test, y_train, y_test = clean_fit_linear_mod(listings_df,'review_scores_cleanliness', cat_cols_lst, fill_mean=True, dummy_na=True)\n",
    "print(\"The r-squared train score and test score were %.3f and %.3f\" % (train_score,test_score))"
   ]
  },
  {
   "cell_type": "code",
   "execution_count": 43,
   "metadata": {
    "scrolled": false
   },
   "outputs": [
    {
     "name": "stdout",
     "output_type": "stream",
     "text": [
      "The r-squared train score and test score were 0.134 and 0.044\n"
     ]
    }
   ],
   "source": [
    "#Test function with the dataset, dropping nan rows instead of filling mean\n",
    "test_score, train_score, lm_model, X_train, X_test, y_train, y_test = clean_fit_linear_mod(listings_df,'review_scores_cleanliness', cat_cols_lst, fill_mean=False, dummy_na=True)\n",
    "print(\"The r-squared train score and test score were %.3f and %.3f\" % (train_score,test_score))"
   ]
  },
  {
   "cell_type": "markdown",
   "metadata": {},
   "source": [
    "This result isn't great by any means, but will stop here for now. \n",
    "\n",
    "### Discussion:\n",
    "\n",
    "- Factors that I thought would affect the cleanliness rating, such as the presence of pets, did not seem to. I could try to improve this by including more predictor variables (including from the other the other csvs included in this dataset), but first it's important to understand the limitations of what we can determine and consider what else might be going on.\n",
    "\n",
    "- From looking at the correlation matrix in the beginning, it seems like the cleanliness rating is more related to the overall rating than anything else ... could be that if someone likes a place, they rank it high for everything instead of putting a lot of thought into ranking each item individually. Or, AirBnB hosts do a good job of keeping their places clean, even if they have pets or fireplaces or allow smoking. Which you'd hope is the case, given the cleaning fee they tack on.\n",
    "\n",
    "- There is minimal variability in the cleanliness rating, so it's possible that the differences we're seeing are within the noise/uncertainty of the dataset (eg. random variability may account for the difference rather than specific features)."
   ]
  }
 ],
 "metadata": {
  "kernelspec": {
   "display_name": "Python [default]",
   "language": "python",
   "name": "python3"
  },
  "language_info": {
   "codemirror_mode": {
    "name": "ipython",
    "version": 3
   },
   "file_extension": ".py",
   "mimetype": "text/x-python",
   "name": "python",
   "nbconvert_exporter": "python",
   "pygments_lexer": "ipython3",
   "version": "3.6.7"
  }
 },
 "nbformat": 4,
 "nbformat_minor": 2
}
